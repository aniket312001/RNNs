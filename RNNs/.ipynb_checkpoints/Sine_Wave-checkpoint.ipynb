{
 "cells": [
  {
   "cell_type": "code",
   "execution_count": 1,
   "metadata": {
    "id": "G-_W4SzzUy7Z"
   },
   "outputs": [],
   "source": [
    "import pandas as pd\n",
    "import numpy as np\n",
    "import seaborn as sns\n",
    "import matplotlib.pyplot as plt"
   ]
  },
  {
   "cell_type": "code",
   "execution_count": 2,
   "metadata": {
    "id": "QeFMQAwMU3UK"
   },
   "outputs": [],
   "source": [
    "x = np.linspace(0,50,501)"
   ]
  },
  {
   "cell_type": "code",
   "execution_count": 3,
   "metadata": {
    "id": "Kge4gj7zU5IH"
   },
   "outputs": [],
   "source": [
    "y = np.sin(x)"
   ]
  },
  {
   "cell_type": "code",
   "execution_count": 4,
   "metadata": {
    "colab": {
     "base_uri": "https://localhost:8080/",
     "height": 281
    },
    "id": "n8bBp5LJU6__",
    "outputId": "4f43c3be-6b80-4a4e-d1d2-0cfaf73f527e"
   },
   "outputs": [
    {
     "data": {
      "text/plain": [
       "[<matplotlib.lines.Line2D at 0x7f94201e54a8>]"
      ]
     },
     "execution_count": 4,
     "metadata": {
      "tags": []
     },
     "output_type": "execute_result"
    },
    {
     "data": {
      "image/png": "[encoded data removed]",
      "text/plain": [
       "<Figure size 432x288 with 1 Axes>"
      ]
     },
     "metadata": {
      "needs_background": "light",
      "tags": []
     },
     "output_type": "display_data"
    }
   ],
   "source": [
    "plt.plot(x,y)"
   ]
  },
  {
   "cell_type": "code",
   "execution_count": 5,
   "metadata": {
    "id": "ctS6CAsIU93X"
   },
   "outputs": [],
   "source": [
    "df = pd.DataFrame(data=y,index=x,columns=['Sine'])"
   ]
  },
  {
   "cell_type": "code",
   "execution_count": 6,
   "metadata": {
    "colab": {
     "base_uri": "https://localhost:8080/",
     "height": 196
    },
    "id": "BhoTjuHlVA3v",
    "outputId": "85792f42-4710-4f11-bf17-068a8e8ebd99"
   },
   "outputs": [
    {
     "data": {
      "text/html": [
       "<div>\n",
       "<style scoped>\n",
       "    .dataframe tbody tr th:only-of-type {\n",
       "        vertical-align: middle;\n",
       "    }\n",
       "\n",
       "    .dataframe tbody tr th {\n",
       "        vertical-align: top;\n",
       "    }\n",
       "\n",
       "    .dataframe thead th {\n",
       "        text-align: right;\n",
       "    }\n",
       "</style>\n",
       "<table border=\"1\" class=\"dataframe\">\n",
       "  <thead>\n",
       "    <tr style=\"text-align: right;\">\n",
       "      <th></th>\n",
       "      <th>Sine</th>\n",
       "    </tr>\n",
       "  </thead>\n",
       "  <tbody>\n",
       "    <tr>\n",
       "      <th>0.0</th>\n",
       "      <td>0.000000</td>\n",
       "    </tr>\n",
       "    <tr>\n",
       "      <th>0.1</th>\n",
       "      <td>0.099833</td>\n",
       "    </tr>\n",
       "    <tr>\n",
       "      <th>0.2</th>\n",
       "      <td>0.198669</td>\n",
       "    </tr>\n",
       "    <tr>\n",
       "      <th>0.3</th>\n",
       "      <td>0.295520</td>\n",
       "    </tr>\n",
       "    <tr>\n",
       "      <th>0.4</th>\n",
       "      <td>0.389418</td>\n",
       "    </tr>\n",
       "  </tbody>\n",
       "</table>\n",
       "</div>"
      ],
      "text/plain": [
       "         Sine\n",
       "0.0  0.000000\n",
       "0.1  0.099833\n",
       "0.2  0.198669\n",
       "0.3  0.295520\n",
       "0.4  0.389418"
      ]
     },
     "execution_count": 6,
     "metadata": {
      "tags": []
     },
     "output_type": "execute_result"
    }
   ],
   "source": [
    "df.head()"
   ]
  },
  {
   "cell_type": "markdown",
   "metadata": {},
   "source": [
    "# Train-Test-Split"
   ]
  },
  {
   "cell_type": "code",
   "execution_count": 7,
   "metadata": {
    "colab": {
     "base_uri": "https://localhost:8080/",
     "height": 33
    },
    "id": "4T8LGY6ZVCtu",
    "outputId": "aa047d59-f02d-4be0-9d06-f16f33276b3c"
   },
   "outputs": [
    {
     "data": {
      "text/plain": [
       "501"
      ]
     },
     "execution_count": 7,
     "metadata": {
      "tags": []
     },
     "output_type": "execute_result"
    }
   ],
   "source": [
    "len(df)"
   ]
  },
  {
   "cell_type": "code",
   "execution_count": 8,
   "metadata": {
    "id": "SZwzoOygVGAY"
   },
   "outputs": [],
   "source": [
    "test_percent = 0.1"
   ]
  },
  {
   "cell_type": "code",
   "execution_count": 9,
   "metadata": {
    "colab": {
     "base_uri": "https://localhost:8080/",
     "height": 33
    },
    "id": "MsdJ2i_UVIBQ",
    "outputId": "1ace2307-f9b3-4bd2-9496-a57f3d20aae5"
   },
   "outputs": [
    {
     "data": {
      "text/plain": [
       "50.1"
      ]
     },
     "execution_count": 9,
     "metadata": {
      "tags": []
     },
     "output_type": "execute_result"
    }
   ],
   "source": [
    "len(df)*test_percent"
   ]
  },
  {
   "cell_type": "code",
   "execution_count": 10,
   "metadata": {
    "id": "dD9K6I5FVKK4"
   },
   "outputs": [],
   "source": [
    "test_point = np.round(len(df)*test_percent)"
   ]
  },
  {
   "cell_type": "code",
   "execution_count": 11,
   "metadata": {
    "id": "utfBKupPVMwo"
   },
   "outputs": [],
   "source": [
    "test_ind = int(len(df) - test_point)"
   ]
  },
  {
   "cell_type": "code",
   "execution_count": 12,
   "metadata": {
    "colab": {
     "base_uri": "https://localhost:8080/",
     "height": 33
    },
    "id": "TOb1EohzVOhR",
    "outputId": "a84a58df-51c6-4d30-81f3-9aadff223c27"
   },
   "outputs": [
    {
     "data": {
      "text/plain": [
       "451"
      ]
     },
     "execution_count": 12,
     "metadata": {
      "tags": []
     },
     "output_type": "execute_result"
    }
   ],
   "source": [
    "test_ind"
   ]
  },
  {
   "cell_type": "code",
   "execution_count": 13,
   "metadata": {
    "id": "JeOYQM5BVQmg"
   },
   "outputs": [],
   "source": [
    "train = df.iloc[:test_ind]\n",
    "test = df.iloc[test_ind:]"
   ]
  },
  {
   "cell_type": "code",
   "execution_count": 14,
   "metadata": {
    "colab": {
     "base_uri": "https://localhost:8080/",
     "height": 33
    },
    "id": "ymjwAqQ-VSsQ",
    "outputId": "ad4855c1-bc03-476e-84c4-a8f496290447"
   },
   "outputs": [
    {
     "data": {
      "text/plain": [
       "(451, 50)"
      ]
     },
     "execution_count": 14,
     "metadata": {
      "tags": []
     },
     "output_type": "execute_result"
    }
   ],
   "source": [
    "len(train),len(test)"
   ]
  },
  {
   "cell_type": "markdown",
   "metadata": {},
   "source": [
    "# Feature Scaling"
   ]
  },
  {
   "cell_type": "code",
   "execution_count": 15,
   "metadata": {
    "id": "xgeb2zlhVU7_"
   },
   "outputs": [],
   "source": [
    "from sklearn.preprocessing import MinMaxScaler \n",
    "\n",
    "scaler = MinMaxScaler()\n",
    "\n",
    "scale_train = scaler.fit_transform(train)\n",
    "scale_test = scaler.transform(test)"
   ]
  },
  {
   "cell_type": "code",
   "execution_count": 17,
   "metadata": {
    "id": "1y02-K70VaAH"
   },
   "outputs": [],
   "source": [
    "# scale_train"
   ]
  },
  {
   "cell_type": "markdown",
   "metadata": {},
   "source": [
    "# TimeseriesGenerator"
   ]
  },
  {
   "cell_type": "code",
   "execution_count": 18,
   "metadata": {
    "id": "JFAejWzjVcCX"
   },
   "outputs": [],
   "source": [
    "from tensorflow.keras.preprocessing.sequence import TimeseriesGenerator"
   ]
  },
  {
   "cell_type": "code",
   "execution_count": 19,
   "metadata": {
    "id": "xfQPwMYDVjSA"
   },
   "outputs": [],
   "source": [
    "length = 50\n",
    "batch_size = 1\n",
    "\n",
    "generator = TimeseriesGenerator(scale_train,scale_train,\n",
    "                               length=length,batch_size=batch_size)"
   ]
  },
  {
   "cell_type": "code",
   "execution_count": 20,
   "metadata": {
    "colab": {
     "base_uri": "https://localhost:8080/",
     "height": 33
    },
    "id": "eXLtTrcmVl-P",
    "outputId": "5511d1cd-b360-4cb9-88d3-9c2c450c325c"
   },
   "outputs": [
    {
     "data": {
      "text/plain": [
       "451"
      ]
     },
     "execution_count": 20,
     "metadata": {
      "tags": []
     },
     "output_type": "execute_result"
    }
   ],
   "source": [
    "len(scale_train)"
   ]
  },
  {
   "cell_type": "code",
   "execution_count": 21,
   "metadata": {
    "colab": {
     "base_uri": "https://localhost:8080/",
     "height": 33
    },
    "id": "xJCtkunFVn54",
    "outputId": "4e75f8e2-0f8f-47e4-e756-eeaad886ceae"
   },
   "outputs": [
    {
     "data": {
      "text/plain": [
       "401"
      ]
     },
     "execution_count": 21,
     "metadata": {
      "tags": []
     },
     "output_type": "execute_result"
    }
   ],
   "source": [
    "len(generator)"
   ]
  },
  {
   "cell_type": "code",
   "execution_count": 22,
   "metadata": {
    "id": "JrorJAN_Vp-w"
   },
   "outputs": [],
   "source": [
    "x,y = generator[0]"
   ]
  },
  {
   "cell_type": "code",
   "execution_count": 23,
   "metadata": {
    "colab": {
     "base_uri": "https://localhost:8080/",
     "height": 853
    },
    "id": "Gog6dTxSVrzA",
    "outputId": "7aae29dd-a0fd-484d-a05e-ee28932178c9"
   },
   "outputs": [
    {
     "data": {
      "text/plain": [
       "array([[[4.99999116e-01],\n",
       "        [5.49916225e-01],\n",
       "        [5.99334579e-01],\n",
       "        [6.47760405e-01],\n",
       "        [6.94709850e-01],\n",
       "        [7.39713809e-01],\n",
       "        [7.82322618e-01],\n",
       "        [8.22110545e-01],\n",
       "        [8.58680040e-01],\n",
       "        [8.91665714e-01],\n",
       "        [9.20737985e-01],\n",
       "        [9.45606372e-01],\n",
       "        [9.66022399e-01],\n",
       "        [9.81782075e-01],\n",
       "        [9.92727935e-01],\n",
       "        [9.98750612e-01],\n",
       "        [9.99789928e-01],\n",
       "        [9.95835500e-01],\n",
       "        [9.86926839e-01],\n",
       "        [9.73152957e-01],\n",
       "        [9.54651478e-01],\n",
       "        [9.31607263e-01],\n",
       "        [9.04250562e-01],\n",
       "        [8.72854714e-01],\n",
       "        [8.37733417e-01],\n",
       "        [7.99237589e-01],\n",
       "        [7.57751870e-01],\n",
       "        [7.13690771e-01],\n",
       "        [6.67494535e-01],\n",
       "        [6.19624741e-01],\n",
       "        [5.70559686e-01],\n",
       "        [5.20789614e-01],\n",
       "        [4.70811810e-01],\n",
       "        [4.21125636e-01],\n",
       "        [3.72227539e-01],\n",
       "        [3.24606094e-01],\n",
       "        [2.78737119e-01],\n",
       "        [2.35078919e-01],\n",
       "        [1.94067715e-01],\n",
       "        [1.56113277e-01],\n",
       "        [1.21594831e-01],\n",
       "        [9.08572769e-02],\n",
       "        [6.42077324e-02],\n",
       "        [4.19124713e-02],\n",
       "        [2.41942605e-02],\n",
       "        [1.12301346e-02],\n",
       "        [3.14962674e-03],\n",
       "        [3.34747619e-05],\n",
       "        [1.91281421e-03],\n",
       "        [8.76886734e-03]]])"
      ]
     },
     "execution_count": 23,
     "metadata": {
      "tags": []
     },
     "output_type": "execute_result"
    }
   ],
   "source": [
    "x"
   ]
  },
  {
   "cell_type": "code",
   "execution_count": 24,
   "metadata": {
    "colab": {
     "base_uri": "https://localhost:8080/",
     "height": 33
    },
    "id": "6eOz8OTRVzz3",
    "outputId": "0a258437-6ed2-417c-ab27-3485d64870d6"
   },
   "outputs": [
    {
     "data": {
      "text/plain": [
       "array([[0.02053313]])"
      ]
     },
     "execution_count": 24,
     "metadata": {
      "tags": []
     },
     "output_type": "execute_result"
    }
   ],
   "source": [
    "y"
   ]
  },
  {
   "cell_type": "markdown",
   "metadata": {},
   "source": [
    "# SimpleRNN"
   ]
  },
  {
   "cell_type": "code",
   "execution_count": 25,
   "metadata": {
    "id": "Xwd0Vl3pVu8I"
   },
   "outputs": [],
   "source": [
    "from tensorflow.keras.models import Sequential\n",
    "from tensorflow.keras.layers import Dense,SimpleRNN,LSTM\n",
    "from tensorflow.keras.callbacks import EarlyStopping"
   ]
  },
  {
   "cell_type": "code",
   "execution_count": 26,
   "metadata": {
    "id": "zXEJPgDlV2wQ"
   },
   "outputs": [],
   "source": [
    "n_feature = 1\n",
    "\n",
    "model = Sequential()\n",
    "\n",
    "model.add(SimpleRNN(50,input_shape =(length,n_feature)))\n",
    "\n",
    "model.add(Dense(1))\n",
    "\n",
    "model.compile(optimizer='adam',loss='mse')"
   ]
  },
  {
   "cell_type": "code",
   "execution_count": 27,
   "metadata": {
    "colab": {
     "base_uri": "https://localhost:8080/",
     "height": 217
    },
    "id": "qBwoSVo8V5C4",
    "outputId": "6345a957-a9fe-4794-8649-12edd89d3fef"
   },
   "outputs": [
    {
     "name": "stdout",
     "output_type": "stream",
     "text": [
      "Model: \"sequential\"\n",
      "_________________________________________________________________\n",
      "Layer (type)                 Output Shape              Param #   \n",
      "=================================================================\n",
      "simple_rnn (SimpleRNN)       (None, 50)                2600      \n",
      "_________________________________________________________________\n",
      "dense (Dense)                (None, 1)                 51        \n",
      "=================================================================\n",
      "Total params: 2,651\n",
      "Trainable params: 2,651\n",
      "Non-trainable params: 0\n",
      "_________________________________________________________________\n"
     ]
    }
   ],
   "source": [
    "model.summary()"
   ]
  },
  {
   "cell_type": "code",
   "execution_count": 28,
   "metadata": {
    "colab": {
     "base_uri": "https://localhost:8080/",
     "height": 271
    },
    "id": "g2Fi8oeWV7XX",
    "outputId": "0dff28e6-2392-4716-e712-576495d80836"
   },
   "outputs": [
    {
     "name": "stdout",
     "output_type": "stream",
     "text": [
      "WARNING:tensorflow:From <ipython-input-28-063492f5aede>:1: Model.fit_generator (from tensorflow.python.keras.engine.training) is deprecated and will be removed in a future version.\n",
      "Instructions for updating:\n",
      "Please use Model.fit, which supports generators.\n",
      "Epoch 1/5\n",
      "401/401 [==============================] - 3s 6ms/step - loss: 0.0031\n",
      "Epoch 2/5\n",
      "401/401 [==============================] - 3s 7ms/step - loss: 1.3566e-04\n",
      "Epoch 3/5\n",
      "401/401 [==============================] - 3s 7ms/step - loss: 5.8606e-04\n",
      "Epoch 4/5\n",
      "401/401 [==============================] - 3s 7ms/step - loss: 4.0539e-05\n",
      "Epoch 5/5\n",
      "401/401 [==============================] - 3s 6ms/step - loss: 2.0662e-05\n"
     ]
    },
    {
     "data": {
      "text/plain": [
       "<tensorflow.python.keras.callbacks.History at 0x7f93e8220780>"
      ]
     },
     "execution_count": 28,
     "metadata": {
      "tags": []
     },
     "output_type": "execute_result"
    }
   ],
   "source": [
    "model.fit_generator(generator,epochs=5)"
   ]
  },
  {
   "cell_type": "code",
   "execution_count": 29,
   "metadata": {
    "id": "y2VmKUolV-JI"
   },
   "outputs": [],
   "source": [
    "loss = pd.DataFrame(model.history.history)"
   ]
  },
  {
   "cell_type": "code",
   "execution_count": 30,
   "metadata": {
    "colab": {
     "base_uri": "https://localhost:8080/",
     "height": 281
    },
    "id": "qIg2iNqDWCzG",
    "outputId": "fb5946d7-16a2-450f-940f-12d18017cb34"
   },
   "outputs": [
    {
     "data": {
      "text/plain": [
       "<matplotlib.axes._subplots.AxesSubplot at 0x7f93e6183da0>"
      ]
     },
     "execution_count": 30,
     "metadata": {
      "tags": []
     },
     "output_type": "execute_result"
    },
    {
     "data": {
      "image/png": "[encoded data removed]",
      "text/plain": [
       "<Figure size 432x288 with 1 Axes>"
      ]
     },
     "metadata": {
      "needs_background": "light",
      "tags": []
     },
     "output_type": "display_data"
    }
   ],
   "source": [
    "loss.plot()"
   ]
  },
  {
   "cell_type": "code",
   "execution_count": 31,
   "metadata": {
    "id": "AszDnVIxWI9u"
   },
   "outputs": [],
   "source": [
    "first_eval_batch= scale_train[-length:]"
   ]
  },
  {
   "cell_type": "code",
   "execution_count": 32,
   "metadata": {
    "id": "QksNRECPWLsW"
   },
   "outputs": [],
   "source": [
    "first_eval_batch = first_eval_batch.reshape((1,length,n_feature))"
   ]
  },
  {
   "cell_type": "code",
   "execution_count": 33,
   "metadata": {
    "colab": {
     "base_uri": "https://localhost:8080/",
     "height": 33
    },
    "id": "BR7b_YngWOsn",
    "outputId": "a06c4b95-e957-4a50-a933-75b4cc6d09bc"
   },
   "outputs": [
    {
     "data": {
      "text/plain": [
       "array([[0.94410914]], dtype=float32)"
      ]
     },
     "execution_count": 33,
     "metadata": {
      "tags": []
     },
     "output_type": "execute_result"
    }
   ],
   "source": [
    "model.predict(first_eval_batch)"
   ]
  },
  {
   "cell_type": "code",
   "execution_count": 34,
   "metadata": {
    "colab": {
     "base_uri": "https://localhost:8080/",
     "height": 33
    },
    "id": "JPRz6aRPWQiv",
    "outputId": "b489d929-f582-4751-9905-6b2f947a9d55"
   },
   "outputs": [
    {
     "data": {
      "text/plain": [
       "array([0.94955134])"
      ]
     },
     "execution_count": 34,
     "metadata": {
      "tags": []
     },
     "output_type": "execute_result"
    }
   ],
   "source": [
    "scale_test[0]"
   ]
  },
  {
   "cell_type": "code",
   "execution_count": 35,
   "metadata": {
    "id": "71KHqqXgWSuA"
   },
   "outputs": [],
   "source": [
    "#main logic\n",
    "\n",
    "test_predictions = []\n",
    "\n",
    "first_eval_batch = scale_train[-length:]\n",
    "current_batch = first_eval_batch.reshape((1,length,n_feature))\n",
    "\n",
    "\n",
    "for i in range(len(test)):\n",
    "    \n",
    "    current_pred = model.predict(current_batch)[0]\n",
    "    \n",
    "    test_predictions.append(current_pred)\n",
    "    \n",
    "    current_batch = np.append(current_batch[:,1:,],[[current_pred]],axis=1)"
   ]
  },
  {
   "cell_type": "code",
   "execution_count": 36,
   "metadata": {
    "colab": {
     "base_uri": "https://localhost:8080/",
     "height": 853
    },
    "id": "ZJhmhDlGWVO_",
    "outputId": "95c4ad19-2ae1-423e-f455-4073464bf1f4"
   },
   "outputs": [
    {
     "data": {
      "text/plain": [
       "[array([0.94410914], dtype=float32),\n",
       " array([0.9624332], dtype=float32),\n",
       " array([0.9749269], dtype=float32),\n",
       " array([0.98215437], dtype=float32),\n",
       " array([0.98382616], dtype=float32),\n",
       " array([0.98102075], dtype=float32),\n",
       " array([0.9728166], dtype=float32),\n",
       " array([0.96040034], dtype=float32),\n",
       " array([0.9434009], dtype=float32),\n",
       " array([0.92206854], dtype=float32),\n",
       " array([0.8967095], dtype=float32),\n",
       " array([0.86828226], dtype=float32),\n",
       " array([0.83454067], dtype=float32),\n",
       " array([0.79926497], dtype=float32),\n",
       " array([0.76026154], dtype=float32),\n",
       " array([0.719088], dtype=float32),\n",
       " array([0.6751087], dtype=float32),\n",
       " array([0.6302866], dtype=float32),\n",
       " array([0.58337057], dtype=float32),\n",
       " array([0.53588176], dtype=float32),\n",
       " array([0.48777536], dtype=float32),\n",
       " array([0.44014192], dtype=float32),\n",
       " array([0.3928485], dtype=float32),\n",
       " array([0.3475355], dtype=float32),\n",
       " array([0.3024956], dtype=float32),\n",
       " array([0.26084217], dtype=float32),\n",
       " array([0.22133279], dtype=float32),\n",
       " array([0.1852554], dtype=float32),\n",
       " array([0.15217191], dtype=float32),\n",
       " array([0.12394183], dtype=float32),\n",
       " array([0.09929155], dtype=float32),\n",
       " array([0.07947405], dtype=float32),\n",
       " array([0.0642658], dtype=float32),\n",
       " array([0.05389839], dtype=float32),\n",
       " array([0.04826832], dtype=float32),\n",
       " array([0.04820517], dtype=float32),\n",
       " array([0.0516295], dtype=float32),\n",
       " array([0.06077506], dtype=float32),\n",
       " array([0.07385834], dtype=float32),\n",
       " array([0.09126166], dtype=float32),\n",
       " array([0.11184158], dtype=float32),\n",
       " array([0.13720483], dtype=float32),\n",
       " array([0.16464438], dtype=float32),\n",
       " array([0.19536044], dtype=float32),\n",
       " array([0.22873577], dtype=float32),\n",
       " array([0.26416436], dtype=float32),\n",
       " array([0.30115476], dtype=float32),\n",
       " array([0.34042752], dtype=float32),\n",
       " array([0.37961134], dtype=float32),\n",
       " array([0.42081982], dtype=float32)]"
      ]
     },
     "execution_count": 36,
     "metadata": {
      "tags": []
     },
     "output_type": "execute_result"
    }
   ],
   "source": [
    "test_predictions"
   ]
  },
  {
   "cell_type": "code",
   "execution_count": 37,
   "metadata": {
    "id": "jGkitHziWXn3"
   },
   "outputs": [],
   "source": [
    "true_prediction = scaler.inverse_transform(test_predictions)"
   ]
  },
  {
   "cell_type": "code",
   "execution_count": 38,
   "metadata": {
    "colab": {
     "base_uri": "https://localhost:8080/",
     "height": 853
    },
    "id": "bvWD9IaKWcMn",
    "outputId": "9d2a3a03-7e23-46b5-bfec-fda9f13e2107"
   },
   "outputs": [
    {
     "data": {
      "text/plain": [
       "array([[ 0.88821292],\n",
       "       [ 0.92486078],\n",
       "       [ 0.94984792],\n",
       "       [ 0.96430277],\n",
       "       [ 0.96764632],\n",
       "       [ 0.96203554],\n",
       "       [ 0.94562735],\n",
       "       [ 0.92079506],\n",
       "       [ 0.88679649],\n",
       "       [ 0.84413207],\n",
       "       [ 0.7934144 ],\n",
       "       [ 0.73656037],\n",
       "       [ 0.66907773],\n",
       "       [ 0.5985269 ],\n",
       "       [ 0.52052066],\n",
       "       [ 0.43817429],\n",
       "       [ 0.3502163 ],\n",
       "       [ 0.26057283],\n",
       "       [ 0.16674156],\n",
       "       [ 0.07176471],\n",
       "       [-0.02444732],\n",
       "       [-0.11971344],\n",
       "       [-0.21429953],\n",
       "       [-0.3049248 ],\n",
       "       [-0.39500386],\n",
       "       [-0.47831004],\n",
       "       [-0.55732818],\n",
       "       [-0.62948239],\n",
       "       [-0.69564883],\n",
       "       [-0.75210853],\n",
       "       [-0.8014087 ],\n",
       "       [-0.84104337],\n",
       "       [-0.87145965],\n",
       "       [-0.8921943 ],\n",
       "       [-0.90345434],\n",
       "       [-0.90358064],\n",
       "       [-0.89673203],\n",
       "       [-0.87844106],\n",
       "       [-0.85227472],\n",
       "       [-0.81746836],\n",
       "       [-0.77630884],\n",
       "       [-0.72558276],\n",
       "       [-0.6707041 ],\n",
       "       [-0.60927247],\n",
       "       [-0.54252233],\n",
       "       [-0.47166573],\n",
       "       [-0.39768552],\n",
       "       [-0.31914063],\n",
       "       [-0.24077361],\n",
       "       [-0.15835732]])"
      ]
     },
     "execution_count": 38,
     "metadata": {
      "tags": []
     },
     "output_type": "execute_result"
    }
   ],
   "source": [
    "true_prediction"
   ]
  },
  {
   "cell_type": "code",
   "execution_count": 39,
   "metadata": {
    "colab": {
     "base_uri": "https://localhost:8080/",
     "height": 117
    },
    "id": "Nf_Fn_PmWg6_",
    "outputId": "8ecd5219-9c87-464f-8d3f-151be79b8698"
   },
   "outputs": [
    {
     "name": "stderr",
     "output_type": "stream",
     "text": [
      "/usr/local/lib/python3.6/dist-packages/ipykernel_launcher.py:1: SettingWithCopyWarning: \n",
      "A value is trying to be set on a copy of a slice from a DataFrame.\n",
      "Try using .loc[row_indexer,col_indexer] = value instead\n",
      "\n",
      "See the caveats in the documentation: https://pandas.pydata.org/pandas-docs/stable/user_guide/indexing.html#returning-a-view-versus-a-copy\n",
      "  \"\"\"Entry point for launching an IPython kernel.\n"
     ]
    }
   ],
   "source": [
    "test['prediction'] = true_prediction\n",
    "# test"
   ]
  },
  {
   "cell_type": "code",
   "execution_count": 40,
   "metadata": {
    "colab": {
     "base_uri": "https://localhost:8080/",
     "height": 1000
    },
    "id": "7otpfNWxWlbn",
    "outputId": "bbb7ec0a-5cba-440f-fc4b-92ac2b6f5af0"
   },
   "outputs": [
    {
     "data": {
      "text/html": [
       "<div>\n",
       "<style scoped>\n",
       "    .dataframe tbody tr th:only-of-type {\n",
       "        vertical-align: middle;\n",
       "    }\n",
       "\n",
       "    .dataframe tbody tr th {\n",
       "        vertical-align: top;\n",
       "    }\n",
       "\n",
       "    .dataframe thead th {\n",
       "        text-align: right;\n",
       "    }\n",
       "</style>\n",
       "<table border=\"1\" class=\"dataframe\">\n",
       "  <thead>\n",
       "    <tr style=\"text-align: right;\">\n",
       "      <th></th>\n",
       "      <th>Sine</th>\n",
       "      <th>prediction</th>\n",
       "    </tr>\n",
       "  </thead>\n",
       "  <tbody>\n",
       "    <tr>\n",
       "      <th>45.1</th>\n",
       "      <td>0.899097</td>\n",
       "      <td>0.888213</td>\n",
       "    </tr>\n",
       "    <tr>\n",
       "      <th>45.2</th>\n",
       "      <td>0.938307</td>\n",
       "      <td>0.924861</td>\n",
       "    </tr>\n",
       "    <tr>\n",
       "      <th>45.3</th>\n",
       "      <td>0.968142</td>\n",
       "      <td>0.949848</td>\n",
       "    </tr>\n",
       "    <tr>\n",
       "      <th>45.4</th>\n",
       "      <td>0.988304</td>\n",
       "      <td>0.964303</td>\n",
       "    </tr>\n",
       "    <tr>\n",
       "      <th>45.5</th>\n",
       "      <td>0.998591</td>\n",
       "      <td>0.967646</td>\n",
       "    </tr>\n",
       "    <tr>\n",
       "      <th>45.6</th>\n",
       "      <td>0.998900</td>\n",
       "      <td>0.962036</td>\n",
       "    </tr>\n",
       "    <tr>\n",
       "      <th>45.7</th>\n",
       "      <td>0.989229</td>\n",
       "      <td>0.945627</td>\n",
       "    </tr>\n",
       "    <tr>\n",
       "      <th>45.8</th>\n",
       "      <td>0.969673</td>\n",
       "      <td>0.920795</td>\n",
       "    </tr>\n",
       "    <tr>\n",
       "      <th>45.9</th>\n",
       "      <td>0.940429</td>\n",
       "      <td>0.886796</td>\n",
       "    </tr>\n",
       "    <tr>\n",
       "      <th>46.0</th>\n",
       "      <td>0.901788</td>\n",
       "      <td>0.844132</td>\n",
       "    </tr>\n",
       "    <tr>\n",
       "      <th>46.1</th>\n",
       "      <td>0.854137</td>\n",
       "      <td>0.793414</td>\n",
       "    </tr>\n",
       "    <tr>\n",
       "      <th>46.2</th>\n",
       "      <td>0.797952</td>\n",
       "      <td>0.736560</td>\n",
       "    </tr>\n",
       "    <tr>\n",
       "      <th>46.3</th>\n",
       "      <td>0.733794</td>\n",
       "      <td>0.669078</td>\n",
       "    </tr>\n",
       "    <tr>\n",
       "      <th>46.4</th>\n",
       "      <td>0.662304</td>\n",
       "      <td>0.598527</td>\n",
       "    </tr>\n",
       "    <tr>\n",
       "      <th>46.5</th>\n",
       "      <td>0.584197</td>\n",
       "      <td>0.520521</td>\n",
       "    </tr>\n",
       "    <tr>\n",
       "      <th>46.6</th>\n",
       "      <td>0.500252</td>\n",
       "      <td>0.438174</td>\n",
       "    </tr>\n",
       "    <tr>\n",
       "      <th>46.7</th>\n",
       "      <td>0.411309</td>\n",
       "      <td>0.350216</td>\n",
       "    </tr>\n",
       "    <tr>\n",
       "      <th>46.8</th>\n",
       "      <td>0.318257</td>\n",
       "      <td>0.260573</td>\n",
       "    </tr>\n",
       "    <tr>\n",
       "      <th>46.9</th>\n",
       "      <td>0.222024</td>\n",
       "      <td>0.166742</td>\n",
       "    </tr>\n",
       "    <tr>\n",
       "      <th>47.0</th>\n",
       "      <td>0.123573</td>\n",
       "      <td>0.071765</td>\n",
       "    </tr>\n",
       "    <tr>\n",
       "      <th>47.1</th>\n",
       "      <td>0.023888</td>\n",
       "      <td>-0.024447</td>\n",
       "    </tr>\n",
       "    <tr>\n",
       "      <th>47.2</th>\n",
       "      <td>-0.076037</td>\n",
       "      <td>-0.119713</td>\n",
       "    </tr>\n",
       "    <tr>\n",
       "      <th>47.3</th>\n",
       "      <td>-0.175201</td>\n",
       "      <td>-0.214300</td>\n",
       "    </tr>\n",
       "    <tr>\n",
       "      <th>47.4</th>\n",
       "      <td>-0.272615</td>\n",
       "      <td>-0.304925</td>\n",
       "    </tr>\n",
       "    <tr>\n",
       "      <th>47.5</th>\n",
       "      <td>-0.367305</td>\n",
       "      <td>-0.395004</td>\n",
       "    </tr>\n",
       "    <tr>\n",
       "      <th>47.6</th>\n",
       "      <td>-0.458325</td>\n",
       "      <td>-0.478310</td>\n",
       "    </tr>\n",
       "    <tr>\n",
       "      <th>47.7</th>\n",
       "      <td>-0.544766</td>\n",
       "      <td>-0.557328</td>\n",
       "    </tr>\n",
       "    <tr>\n",
       "      <th>47.8</th>\n",
       "      <td>-0.625764</td>\n",
       "      <td>-0.629482</td>\n",
       "    </tr>\n",
       "    <tr>\n",
       "      <th>47.9</th>\n",
       "      <td>-0.700509</td>\n",
       "      <td>-0.695649</td>\n",
       "    </tr>\n",
       "    <tr>\n",
       "      <th>48.0</th>\n",
       "      <td>-0.768255</td>\n",
       "      <td>-0.752109</td>\n",
       "    </tr>\n",
       "    <tr>\n",
       "      <th>48.1</th>\n",
       "      <td>-0.828324</td>\n",
       "      <td>-0.801409</td>\n",
       "    </tr>\n",
       "    <tr>\n",
       "      <th>48.2</th>\n",
       "      <td>-0.880118</td>\n",
       "      <td>-0.841043</td>\n",
       "    </tr>\n",
       "    <tr>\n",
       "      <th>48.3</th>\n",
       "      <td>-0.923117</td>\n",
       "      <td>-0.871460</td>\n",
       "    </tr>\n",
       "    <tr>\n",
       "      <th>48.4</th>\n",
       "      <td>-0.956893</td>\n",
       "      <td>-0.892194</td>\n",
       "    </tr>\n",
       "    <tr>\n",
       "      <th>48.5</th>\n",
       "      <td>-0.981108</td>\n",
       "      <td>-0.903454</td>\n",
       "    </tr>\n",
       "    <tr>\n",
       "      <th>48.6</th>\n",
       "      <td>-0.995521</td>\n",
       "      <td>-0.903581</td>\n",
       "    </tr>\n",
       "    <tr>\n",
       "      <th>48.7</th>\n",
       "      <td>-0.999986</td>\n",
       "      <td>-0.896732</td>\n",
       "    </tr>\n",
       "    <tr>\n",
       "      <th>48.8</th>\n",
       "      <td>-0.994460</td>\n",
       "      <td>-0.878441</td>\n",
       "    </tr>\n",
       "    <tr>\n",
       "      <th>48.9</th>\n",
       "      <td>-0.978997</td>\n",
       "      <td>-0.852275</td>\n",
       "    </tr>\n",
       "    <tr>\n",
       "      <th>49.0</th>\n",
       "      <td>-0.953753</td>\n",
       "      <td>-0.817468</td>\n",
       "    </tr>\n",
       "    <tr>\n",
       "      <th>49.1</th>\n",
       "      <td>-0.918979</td>\n",
       "      <td>-0.776309</td>\n",
       "    </tr>\n",
       "    <tr>\n",
       "      <th>49.2</th>\n",
       "      <td>-0.875023</td>\n",
       "      <td>-0.725583</td>\n",
       "    </tr>\n",
       "    <tr>\n",
       "      <th>49.3</th>\n",
       "      <td>-0.822324</td>\n",
       "      <td>-0.670704</td>\n",
       "    </tr>\n",
       "    <tr>\n",
       "      <th>49.4</th>\n",
       "      <td>-0.761408</td>\n",
       "      <td>-0.609272</td>\n",
       "    </tr>\n",
       "    <tr>\n",
       "      <th>49.5</th>\n",
       "      <td>-0.692885</td>\n",
       "      <td>-0.542522</td>\n",
       "    </tr>\n",
       "    <tr>\n",
       "      <th>49.6</th>\n",
       "      <td>-0.617439</td>\n",
       "      <td>-0.471666</td>\n",
       "    </tr>\n",
       "    <tr>\n",
       "      <th>49.7</th>\n",
       "      <td>-0.535823</td>\n",
       "      <td>-0.397686</td>\n",
       "    </tr>\n",
       "    <tr>\n",
       "      <th>49.8</th>\n",
       "      <td>-0.448854</td>\n",
       "      <td>-0.319141</td>\n",
       "    </tr>\n",
       "    <tr>\n",
       "      <th>49.9</th>\n",
       "      <td>-0.357400</td>\n",
       "      <td>-0.240774</td>\n",
       "    </tr>\n",
       "    <tr>\n",
       "      <th>50.0</th>\n",
       "      <td>-0.262375</td>\n",
       "      <td>-0.158357</td>\n",
       "    </tr>\n",
       "  </tbody>\n",
       "</table>\n",
       "</div>"
      ],
      "text/plain": [
       "          Sine  prediction\n",
       "45.1  0.899097    0.888213\n",
       "45.2  0.938307    0.924861\n",
       "45.3  0.968142    0.949848\n",
       "45.4  0.988304    0.964303\n",
       "45.5  0.998591    0.967646\n",
       "45.6  0.998900    0.962036\n",
       "45.7  0.989229    0.945627\n",
       "45.8  0.969673    0.920795\n",
       "45.9  0.940429    0.886796\n",
       "46.0  0.901788    0.844132\n",
       "46.1  0.854137    0.793414\n",
       "46.2  0.797952    0.736560\n",
       "46.3  0.733794    0.669078\n",
       "46.4  0.662304    0.598527\n",
       "46.5  0.584197    0.520521\n",
       "46.6  0.500252    0.438174\n",
       "46.7  0.411309    0.350216\n",
       "46.8  0.318257    0.260573\n",
       "46.9  0.222024    0.166742\n",
       "47.0  0.123573    0.071765\n",
       "47.1  0.023888   -0.024447\n",
       "47.2 -0.076037   -0.119713\n",
       "47.3 -0.175201   -0.214300\n",
       "47.4 -0.272615   -0.304925\n",
       "47.5 -0.367305   -0.395004\n",
       "47.6 -0.458325   -0.478310\n",
       "47.7 -0.544766   -0.557328\n",
       "47.8 -0.625764   -0.629482\n",
       "47.9 -0.700509   -0.695649\n",
       "48.0 -0.768255   -0.752109\n",
       "48.1 -0.828324   -0.801409\n",
       "48.2 -0.880118   -0.841043\n",
       "48.3 -0.923117   -0.871460\n",
       "48.4 -0.956893   -0.892194\n",
       "48.5 -0.981108   -0.903454\n",
       "48.6 -0.995521   -0.903581\n",
       "48.7 -0.999986   -0.896732\n",
       "48.8 -0.994460   -0.878441\n",
       "48.9 -0.978997   -0.852275\n",
       "49.0 -0.953753   -0.817468\n",
       "49.1 -0.918979   -0.776309\n",
       "49.2 -0.875023   -0.725583\n",
       "49.3 -0.822324   -0.670704\n",
       "49.4 -0.761408   -0.609272\n",
       "49.5 -0.692885   -0.542522\n",
       "49.6 -0.617439   -0.471666\n",
       "49.7 -0.535823   -0.397686\n",
       "49.8 -0.448854   -0.319141\n",
       "49.9 -0.357400   -0.240774\n",
       "50.0 -0.262375   -0.158357"
      ]
     },
     "execution_count": 40,
     "metadata": {
      "tags": []
     },
     "output_type": "execute_result"
    }
   ],
   "source": [
    " test"
   ]
  },
  {
   "cell_type": "code",
   "execution_count": 41,
   "metadata": {
    "colab": {
     "base_uri": "https://localhost:8080/",
     "height": 500
    },
    "id": "rHeVbLE9Woh2",
    "outputId": "abe3e908-ae3a-4b9f-9535-3f3c243a2d75"
   },
   "outputs": [
    {
     "data": {
      "text/plain": [
       "<matplotlib.axes._subplots.AxesSubplot at 0x7f93e4fb4eb8>"
      ]
     },
     "execution_count": 41,
     "metadata": {
      "tags": []
     },
     "output_type": "execute_result"
    },
    {
     "data": {
      "image/png": "[encoded data removed]",
      "text/plain": [
       "<Figure size 864x576 with 1 Axes>"
      ]
     },
     "metadata": {
      "needs_background": "light",
      "tags": []
     },
     "output_type": "display_data"
    }
   ],
   "source": [
    "test.plot(figsize=(12,8))"
   ]
  },
  {
   "cell_type": "markdown",
   "metadata": {},
   "source": [
    "# LSTM"
   ]
  },
  {
   "cell_type": "code",
   "execution_count": 42,
   "metadata": {
    "id": "oNl3aXOpWrjv"
   },
   "outputs": [],
   "source": [
    "# LSTM\n",
    "\n",
    "length = 49\n",
    "\n",
    "generator = TimeseriesGenerator(scale_train,scale_train,\n",
    "                                batch_size=batch_size,length=length)\n",
    "\n",
    "validation_generator = TimeseriesGenerator(scale_test,scale_test,\n",
    "                                           batch_size=batch_size,length=length)"
   ]
  },
  {
   "cell_type": "code",
   "execution_count": 43,
   "metadata": {
    "id": "VGRAwcJHWuMZ"
   },
   "outputs": [],
   "source": [
    "n_feature = 1\n",
    "\n",
    "model = Sequential()\n",
    "\n",
    "model.add(LSTM(50,input_shape =(length,n_feature)))\n",
    "\n",
    "model.add(Dense(1))\n",
    "\n",
    "model.compile(optimizer='adam',loss='mse')"
   ]
  },
  {
   "cell_type": "code",
   "execution_count": 47,
   "metadata": {
    "colab": {
     "base_uri": "https://localhost:8080/",
     "height": 234
    },
    "id": "23ElVK9fW28f",
    "outputId": "3d73b22c-8a9e-4718-c034-47ac9e9fb0c5"
   },
   "outputs": [
    {
     "name": "stdout",
     "output_type": "stream",
     "text": [
      "Epoch 1/20\n",
      "402/402 [==============================] - 8s 19ms/step - loss: 0.0187 - val_loss: 4.3966e-05\n",
      "Epoch 2/20\n",
      "402/402 [==============================] - 7s 18ms/step - loss: 2.3730e-05 - val_loss: 2.2523e-05\n",
      "Epoch 3/20\n",
      "402/402 [==============================] - 6s 15ms/step - loss: 3.3039e-05 - val_loss: 8.7976e-06\n",
      "Epoch 4/20\n",
      "402/402 [==============================] - 6s 15ms/step - loss: 8.3022e-05 - val_loss: 1.5144e-06\n",
      "Epoch 5/20\n",
      "402/402 [==============================] - 6s 15ms/step - loss: 2.2382e-04 - val_loss: 6.3337e-06\n",
      "Epoch 6/20\n",
      "402/402 [==============================] - 6s 15ms/step - loss: 1.4620e-05 - val_loss: 2.4134e-05\n"
     ]
    },
    {
     "data": {
      "text/plain": [
       "<tensorflow.python.keras.callbacks.History at 0x7f93e4c61ef0>"
      ]
     },
     "execution_count": 47,
     "metadata": {
      "tags": []
     },
     "output_type": "execute_result"
    }
   ],
   "source": [
    "early_stop = EarlyStopping(patience=2)\n",
    "\n",
    "model.fit_generator(generator,epochs=20,\n",
    "                    validation_data=validation_generator, callbacks=[early_stop])"
   ]
  },
  {
   "cell_type": "code",
   "execution_count": 48,
   "metadata": {
    "id": "rlGm_ZVyXAle"
   },
   "outputs": [],
   "source": [
    "# Main logic\n",
    "\n",
    "test_predictions = []\n",
    "\n",
    "first_eval_batch = scale_train[-length:]\n",
    "current_batch = first_eval_batch.reshape((1,length,n_feature))\n",
    "\n",
    "\n",
    "for i in range(len(test)):\n",
    "    \n",
    "    current_pred = model.predict(current_batch)[0]\n",
    "    \n",
    "    test_predictions.append(current_pred)\n",
    "    \n",
    "    current_batch = np.append(current_batch[:,1:,],[[current_pred]],axis=1)"
   ]
  },
  {
   "cell_type": "code",
   "execution_count": 49,
   "metadata": {
    "colab": {
     "base_uri": "https://localhost:8080/",
     "height": 600
    },
    "id": "KOsN_21BXTwX",
    "outputId": "9a029f86-5243-4f7f-a3f3-7d29a83a2301"
   },
   "outputs": [
    {
     "name": "stderr",
     "output_type": "stream",
     "text": [
      "/usr/local/lib/python3.6/dist-packages/ipykernel_launcher.py:3: SettingWithCopyWarning: \n",
      "A value is trying to be set on a copy of a slice from a DataFrame.\n",
      "Try using .loc[row_indexer,col_indexer] = value instead\n",
      "\n",
      "See the caveats in the documentation: https://pandas.pydata.org/pandas-docs/stable/user_guide/indexing.html#returning-a-view-versus-a-copy\n",
      "  This is separate from the ipykernel package so we can avoid doing imports until\n"
     ]
    },
    {
     "data": {
      "text/plain": [
       "<matplotlib.axes._subplots.AxesSubplot at 0x7f93e30677f0>"
      ]
     },
     "execution_count": 49,
     "metadata": {
      "tags": []
     },
     "output_type": "execute_result"
    },
    {
     "data": {
      "image/png": "[encoded data removed]",
      "text/plain": [
       "<Figure size 864x576 with 1 Axes>"
      ]
     },
     "metadata": {
      "needs_background": "light",
      "tags": []
     },
     "output_type": "display_data"
    }
   ],
   "source": [
    "true_prediction = scaler.inverse_transform(test_predictions)\n",
    "\n",
    "test['LSTM_prediction'] = true_prediction\n",
    "\n",
    "test.plot(figsize=(12,8))"
   ]
  },
  {
   "cell_type": "markdown",
   "metadata": {
    "id": "BL99IlW3XeTO"
   },
   "source": [
    "# We Will Choose LSTM for Full Data Beacuse It perform best to this model"
   ]
  },
  {
   "cell_type": "code",
   "execution_count": 51,
   "metadata": {
    "id": "AZWQ_fhNXmu_"
   },
   "outputs": [],
   "source": [
    "scale_full = scaler.fit_transform(df) "
   ]
  },
  {
   "cell_type": "code",
   "execution_count": 52,
   "metadata": {
    "id": "HgjiIw1cXn6O"
   },
   "outputs": [],
   "source": [
    "\n",
    "generator = TimeseriesGenerator(scale_train,scale_train,\n",
    "                                batch_size=batch_size,length=length)"
   ]
  },
  {
   "cell_type": "code",
   "execution_count": 53,
   "metadata": {
    "id": "BjtMMf9xXpxu"
   },
   "outputs": [],
   "source": [
    "n_feature = 1\n",
    " \n",
    "model = Sequential()\n",
    "\n",
    "model.add(LSTM(50,input_shape =(length,n_feature)))\n",
    "\n",
    "model.add(Dense(1))\n",
    "\n",
    "model.compile(optimizer='adam',loss='mse')"
   ]
  },
  {
   "cell_type": "code",
   "execution_count": 57,
   "metadata": {
    "colab": {
     "base_uri": "https://localhost:8080/",
     "height": 234
    },
    "id": "bzc68teAXrxP",
    "outputId": "48a7c486-6659-43a9-db98-44d717ae5450"
   },
   "outputs": [
    {
     "name": "stdout",
     "output_type": "stream",
     "text": [
      "Epoch 1/6\n",
      "402/402 [==============================] - 7s 17ms/step - loss: 2.7920e-04\n",
      "Epoch 2/6\n",
      "402/402 [==============================] - 7s 18ms/step - loss: 4.4182e-04\n",
      "Epoch 3/6\n",
      "402/402 [==============================] - 6s 15ms/step - loss: 1.0833e-04\n",
      "Epoch 4/6\n",
      "402/402 [==============================] - 6s 15ms/step - loss: 5.7417e-05\n",
      "Epoch 5/6\n",
      "402/402 [==============================] - 6s 15ms/step - loss: 7.2974e-04\n",
      "Epoch 6/6\n",
      "402/402 [==============================] - 6s 15ms/step - loss: 3.4566e-05\n"
     ]
    },
    {
     "data": {
      "text/plain": [
       "<tensorflow.python.keras.callbacks.History at 0x7f93e2b8edd8>"
      ]
     },
     "execution_count": 57,
     "metadata": {
      "tags": []
     },
     "output_type": "execute_result"
    }
   ],
   "source": [
    "model.fit_generator(generator,epochs=6)"
   ]
  },
  {
   "cell_type": "code",
   "execution_count": 58,
   "metadata": {
    "id": "GrW7KbRPXwNX"
   },
   "outputs": [],
   "source": [
    "forecast = []\n",
    "\n",
    "first_eval_batch = scale_train[-length:]\n",
    "current_batch = first_eval_batch.reshape((1,length,n_feature))\n",
    "\n",
    "\n",
    "for i in range(25):\n",
    "    \n",
    "    current_pred = model.predict(current_batch)[0]\n",
    "    \n",
    "    forecast.append(current_pred)\n",
    "    \n",
    "    current_batch = np.append(current_batch[:,1:,],[[current_pred]],axis=1)"
   ]
  },
  {
   "cell_type": "code",
   "execution_count": 59,
   "metadata": {
    "id": "OMwq2AN4X6tk"
   },
   "outputs": [],
   "source": [
    "forecast = scaler.inverse_transform(forecast)"
   ]
  },
  {
   "cell_type": "code",
   "execution_count": 60,
   "metadata": {
    "id": "2JziT2lJYFF8"
   },
   "outputs": [],
   "source": [
    "forecast_index = np.arange(50.1,52.6,step=0.1)"
   ]
  },
  {
   "cell_type": "code",
   "execution_count": 61,
   "metadata": {
    "colab": {
     "base_uri": "https://localhost:8080/",
     "height": 33
    },
    "id": "gcA9w9idYG4D",
    "outputId": "f0a1bd19-c3e6-47a8-cd87-6d6024d54579"
   },
   "outputs": [
    {
     "data": {
      "text/plain": [
       "25"
      ]
     },
     "execution_count": 61,
     "metadata": {
      "tags": []
     },
     "output_type": "execute_result"
    }
   ],
   "source": [
    "len(forecast)"
   ]
  },
  {
   "cell_type": "code",
   "execution_count": 62,
   "metadata": {
    "colab": {
     "base_uri": "https://localhost:8080/",
     "height": 33
    },
    "id": "-L-WB_RJYP6U",
    "outputId": "7b51fa78-c2b4-4def-e076-ab600505a6bb"
   },
   "outputs": [
    {
     "data": {
      "text/plain": [
       "25"
      ]
     },
     "execution_count": 62,
     "metadata": {
      "tags": []
     },
     "output_type": "execute_result"
    }
   ],
   "source": [
    "len(forecast_index)"
   ]
  },
  {
   "cell_type": "markdown",
   "metadata": {},
   "source": [
    "# Forecast"
   ]
  },
  {
   "cell_type": "code",
   "execution_count": 63,
   "metadata": {
    "colab": {
     "base_uri": "https://localhost:8080/",
     "height": 281
    },
    "id": "g5g7okHDYSX8",
    "outputId": "7baaa89b-0636-4e9e-adcf-d52b9fe2d201"
   },
   "outputs": [
    {
     "data": {
      "text/plain": [
       "[<matplotlib.lines.Line2D at 0x7f93e1715358>]"
      ]
     },
     "execution_count": 63,
     "metadata": {
      "tags": []
     },
     "output_type": "execute_result"
    },
    {
     "data": {
      "image/png": "[encoded data removed]",
      "text/plain": [
       "<Figure size 432x288 with 1 Axes>"
      ]
     },
     "metadata": {
      "needs_background": "light",
      "tags": []
     },
     "output_type": "display_data"
    }
   ],
   "source": [
    "plt.plot(df.index,df['Sine'])\n",
    "plt.plot(forecast_index,forecast)"
   ]
  },
  {
   "cell_type": "code",
   "execution_count": null,
   "metadata": {
    "id": "RAvZDfY6YU5e"
   },
   "outputs": [],
   "source": []
  }
 ],
 "metadata": {
  "colab": {
   "name": "Sine Wave.ipynb",
   "provenance": []
  },
  "kernelspec": {
   "display_name": "Python 3",
   "language": "python",
   "name": "python3"
  },
  "language_info": {
   "codemirror_mode": {
    "name": "ipython",
    "version": 3
   },
   "file_extension": ".py",
   "mimetype": "text/x-python",
   "name": "python",
   "nbconvert_exporter": "python",
   "pygments_lexer": "ipython3",
   "version": "3.7.6"
  }
 },
 "nbformat": 4,
 "nbformat_minor": 1
}
