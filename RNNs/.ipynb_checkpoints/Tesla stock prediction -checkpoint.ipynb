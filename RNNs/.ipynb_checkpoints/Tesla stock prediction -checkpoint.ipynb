{
 "cells": [
  {
   "cell_type": "code",
   "execution_count": 1,
   "metadata": {
    "_cell_guid": "b1076dfc-b9ad-4769-8c92-a6c4dae69d19",
    "_uuid": "8f2839f25d086af736a60e9eeb907d3b93b6e0e5"
   },
   "outputs": [],
   "source": [
    "import pandas as pd\n",
    "import numpy as np\n",
    "import matplotlib.pyplot as plt\n",
    "import seaborn as sns\n",
    "\n",
    "pd.pandas.set_option('display.max_columns',None)"
   ]
  },
  {
   "cell_type": "code",
   "execution_count": 8,
   "metadata": {
    "_cell_guid": "79c7e3d0-c299-4dcb-8224-4455121ee9b0",
    "_uuid": "d629ff2d2480ee46fbb7e2d37f6b5fab8052498a"
   },
   "outputs": [],
   "source": [
    "df = pd.read_csv('../input/tesla-stock-price/Tesla.csv - Tesla.csv.csv',infer_datetime_format=True,index_col='Date')"
   ]
  },
  {
   "cell_type": "code",
   "execution_count": 9,
   "metadata": {},
   "outputs": [
    {
     "data": {
      "text/html": [
       "<div>\n",
       "<style scoped>\n",
       "    .dataframe tbody tr th:only-of-type {\n",
       "        vertical-align: middle;\n",
       "    }\n",
       "\n",
       "    .dataframe tbody tr th {\n",
       "        vertical-align: top;\n",
       "    }\n",
       "\n",
       "    .dataframe thead th {\n",
       "        text-align: right;\n",
       "    }\n",
       "</style>\n",
       "<table border=\"1\" class=\"dataframe\">\n",
       "  <thead>\n",
       "    <tr style=\"text-align: right;\">\n",
       "      <th></th>\n",
       "      <th>Open</th>\n",
       "      <th>High</th>\n",
       "      <th>Low</th>\n",
       "      <th>Close</th>\n",
       "      <th>Volume</th>\n",
       "      <th>Adj Close</th>\n",
       "    </tr>\n",
       "    <tr>\n",
       "      <th>Date</th>\n",
       "      <th></th>\n",
       "      <th></th>\n",
       "      <th></th>\n",
       "      <th></th>\n",
       "      <th></th>\n",
       "      <th></th>\n",
       "    </tr>\n",
       "  </thead>\n",
       "  <tbody>\n",
       "    <tr>\n",
       "      <th>6/29/2010</th>\n",
       "      <td>19.000000</td>\n",
       "      <td>25.00</td>\n",
       "      <td>17.540001</td>\n",
       "      <td>23.889999</td>\n",
       "      <td>18766300</td>\n",
       "      <td>23.889999</td>\n",
       "    </tr>\n",
       "    <tr>\n",
       "      <th>6/30/2010</th>\n",
       "      <td>25.790001</td>\n",
       "      <td>30.42</td>\n",
       "      <td>23.299999</td>\n",
       "      <td>23.830000</td>\n",
       "      <td>17187100</td>\n",
       "      <td>23.830000</td>\n",
       "    </tr>\n",
       "    <tr>\n",
       "      <th>7/1/2010</th>\n",
       "      <td>25.000000</td>\n",
       "      <td>25.92</td>\n",
       "      <td>20.270000</td>\n",
       "      <td>21.959999</td>\n",
       "      <td>8218800</td>\n",
       "      <td>21.959999</td>\n",
       "    </tr>\n",
       "    <tr>\n",
       "      <th>7/2/2010</th>\n",
       "      <td>23.000000</td>\n",
       "      <td>23.10</td>\n",
       "      <td>18.709999</td>\n",
       "      <td>19.200001</td>\n",
       "      <td>5139800</td>\n",
       "      <td>19.200001</td>\n",
       "    </tr>\n",
       "    <tr>\n",
       "      <th>7/6/2010</th>\n",
       "      <td>20.000000</td>\n",
       "      <td>20.00</td>\n",
       "      <td>15.830000</td>\n",
       "      <td>16.110001</td>\n",
       "      <td>6866900</td>\n",
       "      <td>16.110001</td>\n",
       "    </tr>\n",
       "  </tbody>\n",
       "</table>\n",
       "</div>"
      ],
      "text/plain": [
       "                Open   High        Low      Close    Volume  Adj Close\n",
       "Date                                                                  \n",
       "6/29/2010  19.000000  25.00  17.540001  23.889999  18766300  23.889999\n",
       "6/30/2010  25.790001  30.42  23.299999  23.830000  17187100  23.830000\n",
       "7/1/2010   25.000000  25.92  20.270000  21.959999   8218800  21.959999\n",
       "7/2/2010   23.000000  23.10  18.709999  19.200001   5139800  19.200001\n",
       "7/6/2010   20.000000  20.00  15.830000  16.110001   6866900  16.110001"
      ]
     },
     "execution_count": 9,
     "metadata": {},
     "output_type": "execute_result"
    }
   ],
   "source": [
    "df.head()"
   ]
  },
  {
   "cell_type": "code",
   "execution_count": 10,
   "metadata": {},
   "outputs": [
    {
     "name": "stdout",
     "output_type": "stream",
     "text": [
      "<class 'pandas.core.frame.DataFrame'>\n",
      "Index: 1692 entries, 6/29/2010 to 3/17/2017\n",
      "Data columns (total 6 columns):\n",
      " #   Column     Non-Null Count  Dtype  \n",
      "---  ------     --------------  -----  \n",
      " 0   Open       1692 non-null   float64\n",
      " 1   High       1692 non-null   float64\n",
      " 2   Low        1692 non-null   float64\n",
      " 3   Close      1692 non-null   float64\n",
      " 4   Volume     1692 non-null   int64  \n",
      " 5   Adj Close  1692 non-null   float64\n",
      "dtypes: float64(5), int64(1)\n",
      "memory usage: 92.5+ KB\n"
     ]
    }
   ],
   "source": [
    "df.info()\n"
   ]
  },
  {
   "cell_type": "code",
   "execution_count": 11,
   "metadata": {},
   "outputs": [
    {
     "data": {
      "text/html": [
       "<div>\n",
       "<style scoped>\n",
       "    .dataframe tbody tr th:only-of-type {\n",
       "        vertical-align: middle;\n",
       "    }\n",
       "\n",
       "    .dataframe tbody tr th {\n",
       "        vertical-align: top;\n",
       "    }\n",
       "\n",
       "    .dataframe thead th {\n",
       "        text-align: right;\n",
       "    }\n",
       "</style>\n",
       "<table border=\"1\" class=\"dataframe\">\n",
       "  <thead>\n",
       "    <tr style=\"text-align: right;\">\n",
       "      <th></th>\n",
       "      <th>Open</th>\n",
       "      <th>High</th>\n",
       "      <th>Low</th>\n",
       "      <th>Close</th>\n",
       "      <th>Volume</th>\n",
       "      <th>Adj Close</th>\n",
       "    </tr>\n",
       "  </thead>\n",
       "  <tbody>\n",
       "    <tr>\n",
       "      <th>count</th>\n",
       "      <td>1692.000000</td>\n",
       "      <td>1692.000000</td>\n",
       "      <td>1692.000000</td>\n",
       "      <td>1692.000000</td>\n",
       "      <td>1.692000e+03</td>\n",
       "      <td>1692.000000</td>\n",
       "    </tr>\n",
       "    <tr>\n",
       "      <th>mean</th>\n",
       "      <td>132.441572</td>\n",
       "      <td>134.769698</td>\n",
       "      <td>129.996223</td>\n",
       "      <td>132.428658</td>\n",
       "      <td>4.270741e+06</td>\n",
       "      <td>132.428658</td>\n",
       "    </tr>\n",
       "    <tr>\n",
       "      <th>std</th>\n",
       "      <td>94.309923</td>\n",
       "      <td>95.694914</td>\n",
       "      <td>92.855227</td>\n",
       "      <td>94.313187</td>\n",
       "      <td>4.295971e+06</td>\n",
       "      <td>94.313187</td>\n",
       "    </tr>\n",
       "    <tr>\n",
       "      <th>min</th>\n",
       "      <td>16.139999</td>\n",
       "      <td>16.629999</td>\n",
       "      <td>14.980000</td>\n",
       "      <td>15.800000</td>\n",
       "      <td>1.185000e+05</td>\n",
       "      <td>15.800000</td>\n",
       "    </tr>\n",
       "    <tr>\n",
       "      <th>25%</th>\n",
       "      <td>30.000000</td>\n",
       "      <td>30.650000</td>\n",
       "      <td>29.214999</td>\n",
       "      <td>29.884999</td>\n",
       "      <td>1.194350e+06</td>\n",
       "      <td>29.884999</td>\n",
       "    </tr>\n",
       "    <tr>\n",
       "      <th>50%</th>\n",
       "      <td>156.334999</td>\n",
       "      <td>162.370002</td>\n",
       "      <td>153.150002</td>\n",
       "      <td>158.160004</td>\n",
       "      <td>3.180700e+06</td>\n",
       "      <td>158.160004</td>\n",
       "    </tr>\n",
       "    <tr>\n",
       "      <th>75%</th>\n",
       "      <td>220.557495</td>\n",
       "      <td>224.099999</td>\n",
       "      <td>217.119999</td>\n",
       "      <td>220.022503</td>\n",
       "      <td>5.662100e+06</td>\n",
       "      <td>220.022503</td>\n",
       "    </tr>\n",
       "    <tr>\n",
       "      <th>max</th>\n",
       "      <td>287.670013</td>\n",
       "      <td>291.420013</td>\n",
       "      <td>280.399994</td>\n",
       "      <td>286.040009</td>\n",
       "      <td>3.716390e+07</td>\n",
       "      <td>286.040009</td>\n",
       "    </tr>\n",
       "  </tbody>\n",
       "</table>\n",
       "</div>"
      ],
      "text/plain": [
       "              Open         High          Low        Close        Volume  \\\n",
       "count  1692.000000  1692.000000  1692.000000  1692.000000  1.692000e+03   \n",
       "mean    132.441572   134.769698   129.996223   132.428658  4.270741e+06   \n",
       "std      94.309923    95.694914    92.855227    94.313187  4.295971e+06   \n",
       "min      16.139999    16.629999    14.980000    15.800000  1.185000e+05   \n",
       "25%      30.000000    30.650000    29.214999    29.884999  1.194350e+06   \n",
       "50%     156.334999   162.370002   153.150002   158.160004  3.180700e+06   \n",
       "75%     220.557495   224.099999   217.119999   220.022503  5.662100e+06   \n",
       "max     287.670013   291.420013   280.399994   286.040009  3.716390e+07   \n",
       "\n",
       "         Adj Close  \n",
       "count  1692.000000  \n",
       "mean    132.428658  \n",
       "std      94.313187  \n",
       "min      15.800000  \n",
       "25%      29.884999  \n",
       "50%     158.160004  \n",
       "75%     220.022503  \n",
       "max     286.040009  "
      ]
     },
     "execution_count": 11,
     "metadata": {},
     "output_type": "execute_result"
    }
   ],
   "source": [
    "df.describe()"
   ]
  },
  {
   "cell_type": "code",
   "execution_count": 12,
   "metadata": {},
   "outputs": [
    {
     "data": {
      "text/plain": [
       "<matplotlib.axes._subplots.AxesSubplot at 0x7f0e385bded0>"
      ]
     },
     "execution_count": 12,
     "metadata": {},
     "output_type": "execute_result"
    },
    {
     "data": {
      "image/png": "[encoded data removed]",
      "text/plain": [
       "<Figure size 864x576 with 1 Axes>"
      ]
     },
     "metadata": {
      "needs_background": "light"
     },
     "output_type": "display_data"
    }
   ],
   "source": [
    "df['Open'].plot(figsize=(12,8))"
   ]
  },
  {
   "cell_type": "code",
   "execution_count": 13,
   "metadata": {},
   "outputs": [
    {
     "data": {
      "text/plain": [
       "<matplotlib.axes._subplots.AxesSubplot at 0x7f0e3840a4d0>"
      ]
     },
     "execution_count": 13,
     "metadata": {},
     "output_type": "execute_result"
    },
    {
     "data": {
      "image/png": "[encoded data removed]",
      "text/plain": [
       "<Figure size 864x576 with 1 Axes>"
      ]
     },
     "metadata": {
      "needs_background": "light"
     },
     "output_type": "display_data"
    }
   ],
   "source": [
    "df['High'].plot(figsize=(12,8))"
   ]
  },
  {
   "cell_type": "code",
   "execution_count": 14,
   "metadata": {},
   "outputs": [
    {
     "data": {
      "text/plain": [
       "<matplotlib.axes._subplots.AxesSubplot at 0x7f0e38c20290>"
      ]
     },
     "execution_count": 14,
     "metadata": {},
     "output_type": "execute_result"
    },
    {
     "data": {
      "image/png": "[encoded data removed]",
      "text/plain": [
       "<Figure size 864x576 with 1 Axes>"
      ]
     },
     "metadata": {
      "needs_background": "light"
     },
     "output_type": "display_data"
    }
   ],
   "source": [
    "df['Low'].plot(figsize=(12,8))"
   ]
  },
  {
   "cell_type": "code",
   "execution_count": 15,
   "metadata": {},
   "outputs": [
    {
     "data": {
      "text/plain": [
       "1692"
      ]
     },
     "execution_count": 15,
     "metadata": {},
     "output_type": "execute_result"
    }
   ],
   "source": [
    "len(df)"
   ]
  },
  {
   "cell_type": "code",
   "execution_count": 16,
   "metadata": {},
   "outputs": [
    {
     "data": {
      "text/html": [
       "<div>\n",
       "<style scoped>\n",
       "    .dataframe tbody tr th:only-of-type {\n",
       "        vertical-align: middle;\n",
       "    }\n",
       "\n",
       "    .dataframe tbody tr th {\n",
       "        vertical-align: top;\n",
       "    }\n",
       "\n",
       "    .dataframe thead th {\n",
       "        text-align: right;\n",
       "    }\n",
       "</style>\n",
       "<table border=\"1\" class=\"dataframe\">\n",
       "  <thead>\n",
       "    <tr style=\"text-align: right;\">\n",
       "      <th></th>\n",
       "      <th>Open</th>\n",
       "      <th>High</th>\n",
       "      <th>Low</th>\n",
       "      <th>Close</th>\n",
       "      <th>Volume</th>\n",
       "      <th>Adj Close</th>\n",
       "    </tr>\n",
       "    <tr>\n",
       "      <th>Date</th>\n",
       "      <th></th>\n",
       "      <th></th>\n",
       "      <th></th>\n",
       "      <th></th>\n",
       "      <th></th>\n",
       "      <th></th>\n",
       "    </tr>\n",
       "  </thead>\n",
       "  <tbody>\n",
       "    <tr>\n",
       "      <th>6/29/2010</th>\n",
       "      <td>19.000000</td>\n",
       "      <td>25.00</td>\n",
       "      <td>17.540001</td>\n",
       "      <td>23.889999</td>\n",
       "      <td>18766300</td>\n",
       "      <td>23.889999</td>\n",
       "    </tr>\n",
       "    <tr>\n",
       "      <th>6/30/2010</th>\n",
       "      <td>25.790001</td>\n",
       "      <td>30.42</td>\n",
       "      <td>23.299999</td>\n",
       "      <td>23.830000</td>\n",
       "      <td>17187100</td>\n",
       "      <td>23.830000</td>\n",
       "    </tr>\n",
       "    <tr>\n",
       "      <th>7/1/2010</th>\n",
       "      <td>25.000000</td>\n",
       "      <td>25.92</td>\n",
       "      <td>20.270000</td>\n",
       "      <td>21.959999</td>\n",
       "      <td>8218800</td>\n",
       "      <td>21.959999</td>\n",
       "    </tr>\n",
       "  </tbody>\n",
       "</table>\n",
       "</div>"
      ],
      "text/plain": [
       "                Open   High        Low      Close    Volume  Adj Close\n",
       "Date                                                                  \n",
       "6/29/2010  19.000000  25.00  17.540001  23.889999  18766300  23.889999\n",
       "6/30/2010  25.790001  30.42  23.299999  23.830000  17187100  23.830000\n",
       "7/1/2010   25.000000  25.92  20.270000  21.959999   8218800  21.959999"
      ]
     },
     "execution_count": 16,
     "metadata": {},
     "output_type": "execute_result"
    }
   ],
   "source": [
    "df.head(3)"
   ]
  },
  {
   "cell_type": "code",
   "execution_count": 17,
   "metadata": {},
   "outputs": [
    {
     "data": {
      "text/html": [
       "<div>\n",
       "<style scoped>\n",
       "    .dataframe tbody tr th:only-of-type {\n",
       "        vertical-align: middle;\n",
       "    }\n",
       "\n",
       "    .dataframe tbody tr th {\n",
       "        vertical-align: top;\n",
       "    }\n",
       "\n",
       "    .dataframe thead th {\n",
       "        text-align: right;\n",
       "    }\n",
       "</style>\n",
       "<table border=\"1\" class=\"dataframe\">\n",
       "  <thead>\n",
       "    <tr style=\"text-align: right;\">\n",
       "      <th></th>\n",
       "      <th>Open</th>\n",
       "      <th>High</th>\n",
       "      <th>Low</th>\n",
       "      <th>Close</th>\n",
       "      <th>Volume</th>\n",
       "      <th>Adj Close</th>\n",
       "    </tr>\n",
       "    <tr>\n",
       "      <th>Date</th>\n",
       "      <th></th>\n",
       "      <th></th>\n",
       "      <th></th>\n",
       "      <th></th>\n",
       "      <th></th>\n",
       "      <th></th>\n",
       "    </tr>\n",
       "  </thead>\n",
       "  <tbody>\n",
       "    <tr>\n",
       "      <th>3/15/2017</th>\n",
       "      <td>257.000000</td>\n",
       "      <td>261.000000</td>\n",
       "      <td>254.270004</td>\n",
       "      <td>255.729996</td>\n",
       "      <td>4816600</td>\n",
       "      <td>255.729996</td>\n",
       "    </tr>\n",
       "    <tr>\n",
       "      <th>3/16/2017</th>\n",
       "      <td>262.399994</td>\n",
       "      <td>265.750000</td>\n",
       "      <td>259.059998</td>\n",
       "      <td>262.049988</td>\n",
       "      <td>7100400</td>\n",
       "      <td>262.049988</td>\n",
       "    </tr>\n",
       "    <tr>\n",
       "      <th>3/17/2017</th>\n",
       "      <td>264.000000</td>\n",
       "      <td>265.329987</td>\n",
       "      <td>261.200012</td>\n",
       "      <td>261.500000</td>\n",
       "      <td>6475900</td>\n",
       "      <td>261.500000</td>\n",
       "    </tr>\n",
       "  </tbody>\n",
       "</table>\n",
       "</div>"
      ],
      "text/plain": [
       "                 Open        High         Low       Close   Volume   Adj Close\n",
       "Date                                                                          \n",
       "3/15/2017  257.000000  261.000000  254.270004  255.729996  4816600  255.729996\n",
       "3/16/2017  262.399994  265.750000  259.059998  262.049988  7100400  262.049988\n",
       "3/17/2017  264.000000  265.329987  261.200012  261.500000  6475900  261.500000"
      ]
     },
     "execution_count": 17,
     "metadata": {},
     "output_type": "execute_result"
    }
   ],
   "source": [
    "df.tail(3)"
   ]
  },
  {
   "cell_type": "code",
   "execution_count": 22,
   "metadata": {},
   "outputs": [],
   "source": [
    "df = np.round(df)"
   ]
  },
  {
   "cell_type": "markdown",
   "metadata": {},
   "source": [
    "# Train Test split"
   ]
  },
  {
   "cell_type": "code",
   "execution_count": 24,
   "metadata": {},
   "outputs": [],
   "source": [
    "df_train = df.loc[:'2/1/2017']\n",
    "\n",
    "df_test = df.loc['2/1/2017':]"
   ]
  },
  {
   "cell_type": "code",
   "execution_count": 25,
   "metadata": {},
   "outputs": [
    {
     "data": {
      "text/plain": [
       "((1661, 6), (32, 6))"
      ]
     },
     "execution_count": 25,
     "metadata": {},
     "output_type": "execute_result"
    }
   ],
   "source": [
    "df_train.shape , df_test.shape"
   ]
  },
  {
   "cell_type": "markdown",
   "metadata": {},
   "source": [
    "# Feature Scaling "
   ]
  },
  {
   "cell_type": "code",
   "execution_count": 26,
   "metadata": {},
   "outputs": [],
   "source": [
    "from sklearn.preprocessing import MinMaxScaler\n",
    "\n",
    "scaler = MinMaxScaler()\n",
    "\n",
    "scale_train = scaler.fit_transform(df_train)\n",
    "scale_test = scaler.transform(df_test)"
   ]
  },
  {
   "cell_type": "markdown",
   "metadata": {},
   "source": [
    "# TimeseriesGenerator"
   ]
  },
  {
   "cell_type": "code",
   "execution_count": 27,
   "metadata": {},
   "outputs": [],
   "source": [
    "from tensorflow.keras.preprocessing.sequence import TimeseriesGenerator"
   ]
  },
  {
   "cell_type": "code",
   "execution_count": 28,
   "metadata": {},
   "outputs": [],
   "source": [
    "length = 30\n",
    "batch_size = 1\n",
    "\n",
    "generator = TimeseriesGenerator(scale_train,scale_train,\n",
    "                                length=length,\n",
    "                                batch_size=batch_size)"
   ]
  },
  {
   "cell_type": "code",
   "execution_count": 33,
   "metadata": {},
   "outputs": [],
   "source": [
    "\n",
    "validation_generator = TimeseriesGenerator(scale_test,scale_test,\n",
    "                                           length=length,batch_size=batch_size)"
   ]
  },
  {
   "cell_type": "code",
   "execution_count": 29,
   "metadata": {},
   "outputs": [
    {
     "data": {
      "text/plain": [
       "1661"
      ]
     },
     "execution_count": 29,
     "metadata": {},
     "output_type": "execute_result"
    }
   ],
   "source": [
    "len(scale_train)"
   ]
  },
  {
   "cell_type": "code",
   "execution_count": 30,
   "metadata": {},
   "outputs": [
    {
     "data": {
      "text/plain": [
       "1631"
      ]
     },
     "execution_count": 30,
     "metadata": {},
     "output_type": "execute_result"
    }
   ],
   "source": [
    "len(generator)"
   ]
  },
  {
   "cell_type": "markdown",
   "metadata": {},
   "source": [
    "# LSTM"
   ]
  },
  {
   "cell_type": "code",
   "execution_count": 34,
   "metadata": {},
   "outputs": [],
   "source": [
    "from tensorflow.keras.models import Sequential\n",
    "from tensorflow.keras.layers import Dense,LSTM\n",
    "from tensorflow.keras.callbacks import EarlyStopping"
   ]
  },
  {
   "cell_type": "code",
   "execution_count": 35,
   "metadata": {},
   "outputs": [
    {
     "data": {
      "text/plain": [
       "(1661, 6)"
      ]
     },
     "execution_count": 35,
     "metadata": {},
     "output_type": "execute_result"
    }
   ],
   "source": [
    "scale_train.shape"
   ]
  },
  {
   "cell_type": "code",
   "execution_count": 36,
   "metadata": {},
   "outputs": [],
   "source": [
    "model = Sequential()\n",
    "\n",
    "model.add(LSTM(25,input_shape=(length,scale_train.shape[1])))\n",
    "\n",
    "model.add(Dense(scale_train.shape[1]))\n",
    "\n",
    "model.compile('adam',loss='mse')"
   ]
  },
  {
   "cell_type": "code",
   "execution_count": 37,
   "metadata": {},
   "outputs": [
    {
     "name": "stdout",
     "output_type": "stream",
     "text": [
      "Model: \"sequential\"\n",
      "_________________________________________________________________\n",
      "Layer (type)                 Output Shape              Param #   \n",
      "=================================================================\n",
      "lstm (LSTM)                  (None, 25)                3200      \n",
      "_________________________________________________________________\n",
      "dense (Dense)                (None, 6)                 156       \n",
      "=================================================================\n",
      "Total params: 3,356\n",
      "Trainable params: 3,356\n",
      "Non-trainable params: 0\n",
      "_________________________________________________________________\n"
     ]
    }
   ],
   "source": [
    "model.summary()"
   ]
  },
  {
   "cell_type": "code",
   "execution_count": 38,
   "metadata": {},
   "outputs": [],
   "source": [
    "early_stop = EarlyStopping(patience=1)"
   ]
  },
  {
   "cell_type": "code",
   "execution_count": 39,
   "metadata": {},
   "outputs": [
    {
     "name": "stdout",
     "output_type": "stream",
     "text": [
      "Epoch 1/10\n",
      "1631/1631 [==============================] - 13s 8ms/step - loss: 0.0063 - val_loss: 0.0038\n",
      "Epoch 2/10\n",
      "1631/1631 [==============================] - 12s 7ms/step - loss: 0.0017 - val_loss: 0.0033\n",
      "Epoch 3/10\n",
      "1631/1631 [==============================] - 11s 7ms/step - loss: 0.0015 - val_loss: 0.0011\n",
      "Epoch 4/10\n",
      "1631/1631 [==============================] - 11s 7ms/step - loss: 0.0014 - val_loss: 0.0012\n"
     ]
    },
    {
     "data": {
      "text/plain": [
       "<tensorflow.python.keras.callbacks.History at 0x7f0e20b3a390>"
      ]
     },
     "execution_count": 39,
     "metadata": {},
     "output_type": "execute_result"
    }
   ],
   "source": [
    "model.fit_generator(generator=generator,\n",
    "                    epochs=10,\n",
    "                    validation_data=validation_generator,\n",
    "                    callbacks=[early_stop])"
   ]
  },
  {
   "cell_type": "code",
   "execution_count": 40,
   "metadata": {},
   "outputs": [
    {
     "data": {
      "text/plain": [
       "<matplotlib.axes._subplots.AxesSubplot at 0x7f0e2002d550>"
      ]
     },
     "execution_count": 40,
     "metadata": {},
     "output_type": "execute_result"
    },
    {
     "data": {
      "image/png": "[encoded data removed]",
      "text/plain": [
       "<Figure size 432x288 with 1 Axes>"
      ]
     },
     "metadata": {
      "needs_background": "light"
     },
     "output_type": "display_data"
    }
   ],
   "source": [
    "loss = pd.DataFrame(model.history.history)\n",
    "\n",
    "loss.plot()"
   ]
  },
  {
   "cell_type": "code",
   "execution_count": 42,
   "metadata": {},
   "outputs": [],
   "source": [
    "# Logic for Forecast\n",
    "\n",
    "n_feature = scale_train.shape[1]\n",
    "\n",
    "test_predictions = []\n",
    "\n",
    "first_eval_batch = scale_train[-length:]\n",
    "current_batch = first_eval_batch.reshape((1,length,n_feature))\n",
    "\n",
    "\n",
    "for i in range(len(df_test)):\n",
    "    \n",
    "    current_pred = model.predict(current_batch)[0]\n",
    "    \n",
    "    test_predictions.append(current_pred)\n",
    "    \n",
    "    current_batch = np.append(current_batch[:,1:,],[[current_pred]],axis=1)"
   ]
  },
  {
   "cell_type": "code",
   "execution_count": 43,
   "metadata": {},
   "outputs": [],
   "source": [
    "test_predictions = scaler.inverse_transform(test_predictions)"
   ]
  },
  {
   "cell_type": "markdown",
   "metadata": {},
   "source": [
    "# True value"
   ]
  },
  {
   "cell_type": "code",
   "execution_count": 44,
   "metadata": {},
   "outputs": [
    {
     "data": {
      "text/html": [
       "<div>\n",
       "<style scoped>\n",
       "    .dataframe tbody tr th:only-of-type {\n",
       "        vertical-align: middle;\n",
       "    }\n",
       "\n",
       "    .dataframe tbody tr th {\n",
       "        vertical-align: top;\n",
       "    }\n",
       "\n",
       "    .dataframe thead th {\n",
       "        text-align: right;\n",
       "    }\n",
       "</style>\n",
       "<table border=\"1\" class=\"dataframe\">\n",
       "  <thead>\n",
       "    <tr style=\"text-align: right;\">\n",
       "      <th></th>\n",
       "      <th>Open</th>\n",
       "      <th>High</th>\n",
       "      <th>Low</th>\n",
       "      <th>Close</th>\n",
       "      <th>Volume</th>\n",
       "      <th>Adj Close</th>\n",
       "    </tr>\n",
       "    <tr>\n",
       "      <th>Date</th>\n",
       "      <th></th>\n",
       "      <th></th>\n",
       "      <th></th>\n",
       "      <th></th>\n",
       "      <th></th>\n",
       "      <th></th>\n",
       "    </tr>\n",
       "  </thead>\n",
       "  <tbody>\n",
       "    <tr>\n",
       "      <th>2/1/2017</th>\n",
       "      <td>253.0</td>\n",
       "      <td>253.0</td>\n",
       "      <td>249.0</td>\n",
       "      <td>249.0</td>\n",
       "      <td>3958800</td>\n",
       "      <td>249.0</td>\n",
       "    </tr>\n",
       "    <tr>\n",
       "      <th>2/2/2017</th>\n",
       "      <td>248.0</td>\n",
       "      <td>252.0</td>\n",
       "      <td>248.0</td>\n",
       "      <td>252.0</td>\n",
       "      <td>2499800</td>\n",
       "      <td>252.0</td>\n",
       "    </tr>\n",
       "    <tr>\n",
       "      <th>2/3/2017</th>\n",
       "      <td>252.0</td>\n",
       "      <td>252.0</td>\n",
       "      <td>250.0</td>\n",
       "      <td>251.0</td>\n",
       "      <td>2186700</td>\n",
       "      <td>251.0</td>\n",
       "    </tr>\n",
       "    <tr>\n",
       "      <th>2/6/2017</th>\n",
       "      <td>251.0</td>\n",
       "      <td>258.0</td>\n",
       "      <td>251.0</td>\n",
       "      <td>258.0</td>\n",
       "      <td>3562500</td>\n",
       "      <td>258.0</td>\n",
       "    </tr>\n",
       "    <tr>\n",
       "      <th>2/7/2017</th>\n",
       "      <td>258.0</td>\n",
       "      <td>260.0</td>\n",
       "      <td>256.0</td>\n",
       "      <td>257.0</td>\n",
       "      <td>4244800</td>\n",
       "      <td>257.0</td>\n",
       "    </tr>\n",
       "    <tr>\n",
       "      <th>2/8/2017</th>\n",
       "      <td>257.0</td>\n",
       "      <td>263.0</td>\n",
       "      <td>256.0</td>\n",
       "      <td>262.0</td>\n",
       "      <td>3933000</td>\n",
       "      <td>262.0</td>\n",
       "    </tr>\n",
       "    <tr>\n",
       "      <th>2/9/2017</th>\n",
       "      <td>266.0</td>\n",
       "      <td>271.0</td>\n",
       "      <td>266.0</td>\n",
       "      <td>269.0</td>\n",
       "      <td>7820200</td>\n",
       "      <td>269.0</td>\n",
       "    </tr>\n",
       "    <tr>\n",
       "      <th>2/10/2017</th>\n",
       "      <td>270.0</td>\n",
       "      <td>271.0</td>\n",
       "      <td>266.0</td>\n",
       "      <td>269.0</td>\n",
       "      <td>3619700</td>\n",
       "      <td>269.0</td>\n",
       "    </tr>\n",
       "    <tr>\n",
       "      <th>2/13/2017</th>\n",
       "      <td>271.0</td>\n",
       "      <td>281.0</td>\n",
       "      <td>271.0</td>\n",
       "      <td>281.0</td>\n",
       "      <td>7029600</td>\n",
       "      <td>281.0</td>\n",
       "    </tr>\n",
       "    <tr>\n",
       "      <th>2/14/2017</th>\n",
       "      <td>279.0</td>\n",
       "      <td>287.0</td>\n",
       "      <td>279.0</td>\n",
       "      <td>281.0</td>\n",
       "      <td>7329400</td>\n",
       "      <td>281.0</td>\n",
       "    </tr>\n",
       "    <tr>\n",
       "      <th>2/15/2017</th>\n",
       "      <td>280.0</td>\n",
       "      <td>282.0</td>\n",
       "      <td>276.0</td>\n",
       "      <td>280.0</td>\n",
       "      <td>4935600</td>\n",
       "      <td>280.0</td>\n",
       "    </tr>\n",
       "    <tr>\n",
       "      <th>2/16/2017</th>\n",
       "      <td>278.0</td>\n",
       "      <td>280.0</td>\n",
       "      <td>268.0</td>\n",
       "      <td>269.0</td>\n",
       "      <td>7053800</td>\n",
       "      <td>269.0</td>\n",
       "    </tr>\n",
       "    <tr>\n",
       "      <th>2/17/2017</th>\n",
       "      <td>266.0</td>\n",
       "      <td>273.0</td>\n",
       "      <td>264.0</td>\n",
       "      <td>272.0</td>\n",
       "      <td>6247600</td>\n",
       "      <td>272.0</td>\n",
       "    </tr>\n",
       "    <tr>\n",
       "      <th>2/21/2017</th>\n",
       "      <td>275.0</td>\n",
       "      <td>281.0</td>\n",
       "      <td>274.0</td>\n",
       "      <td>277.0</td>\n",
       "      <td>5634500</td>\n",
       "      <td>277.0</td>\n",
       "    </tr>\n",
       "    <tr>\n",
       "      <th>2/22/2017</th>\n",
       "      <td>280.0</td>\n",
       "      <td>283.0</td>\n",
       "      <td>273.0</td>\n",
       "      <td>274.0</td>\n",
       "      <td>8081400</td>\n",
       "      <td>274.0</td>\n",
       "    </tr>\n",
       "    <tr>\n",
       "      <th>2/23/2017</th>\n",
       "      <td>264.0</td>\n",
       "      <td>265.0</td>\n",
       "      <td>256.0</td>\n",
       "      <td>256.0</td>\n",
       "      <td>14867000</td>\n",
       "      <td>256.0</td>\n",
       "    </tr>\n",
       "    <tr>\n",
       "      <th>2/24/2017</th>\n",
       "      <td>253.0</td>\n",
       "      <td>258.0</td>\n",
       "      <td>250.0</td>\n",
       "      <td>257.0</td>\n",
       "      <td>8160500</td>\n",
       "      <td>257.0</td>\n",
       "    </tr>\n",
       "    <tr>\n",
       "      <th>2/27/2017</th>\n",
       "      <td>248.0</td>\n",
       "      <td>248.0</td>\n",
       "      <td>242.0</td>\n",
       "      <td>246.0</td>\n",
       "      <td>11432900</td>\n",
       "      <td>246.0</td>\n",
       "    </tr>\n",
       "    <tr>\n",
       "      <th>2/28/2017</th>\n",
       "      <td>244.0</td>\n",
       "      <td>251.0</td>\n",
       "      <td>244.0</td>\n",
       "      <td>250.0</td>\n",
       "      <td>6065600</td>\n",
       "      <td>250.0</td>\n",
       "    </tr>\n",
       "    <tr>\n",
       "      <th>3/1/2017</th>\n",
       "      <td>254.0</td>\n",
       "      <td>255.0</td>\n",
       "      <td>249.0</td>\n",
       "      <td>250.0</td>\n",
       "      <td>4800300</td>\n",
       "      <td>250.0</td>\n",
       "    </tr>\n",
       "    <tr>\n",
       "      <th>3/2/2017</th>\n",
       "      <td>250.0</td>\n",
       "      <td>253.0</td>\n",
       "      <td>248.0</td>\n",
       "      <td>250.0</td>\n",
       "      <td>3342300</td>\n",
       "      <td>250.0</td>\n",
       "    </tr>\n",
       "    <tr>\n",
       "      <th>3/3/2017</th>\n",
       "      <td>251.0</td>\n",
       "      <td>252.0</td>\n",
       "      <td>249.0</td>\n",
       "      <td>252.0</td>\n",
       "      <td>2919400</td>\n",
       "      <td>252.0</td>\n",
       "    </tr>\n",
       "    <tr>\n",
       "      <th>3/6/2017</th>\n",
       "      <td>248.0</td>\n",
       "      <td>252.0</td>\n",
       "      <td>248.0</td>\n",
       "      <td>251.0</td>\n",
       "      <td>3351200</td>\n",
       "      <td>251.0</td>\n",
       "    </tr>\n",
       "    <tr>\n",
       "      <th>3/7/2017</th>\n",
       "      <td>252.0</td>\n",
       "      <td>254.0</td>\n",
       "      <td>248.0</td>\n",
       "      <td>249.0</td>\n",
       "      <td>3449200</td>\n",
       "      <td>249.0</td>\n",
       "    </tr>\n",
       "    <tr>\n",
       "      <th>3/8/2017</th>\n",
       "      <td>247.0</td>\n",
       "      <td>250.0</td>\n",
       "      <td>245.0</td>\n",
       "      <td>247.0</td>\n",
       "      <td>3725200</td>\n",
       "      <td>247.0</td>\n",
       "    </tr>\n",
       "    <tr>\n",
       "      <th>3/9/2017</th>\n",
       "      <td>248.0</td>\n",
       "      <td>249.0</td>\n",
       "      <td>243.0</td>\n",
       "      <td>245.0</td>\n",
       "      <td>3861500</td>\n",
       "      <td>245.0</td>\n",
       "    </tr>\n",
       "    <tr>\n",
       "      <th>3/10/2017</th>\n",
       "      <td>246.0</td>\n",
       "      <td>246.0</td>\n",
       "      <td>243.0</td>\n",
       "      <td>244.0</td>\n",
       "      <td>3057000</td>\n",
       "      <td>244.0</td>\n",
       "    </tr>\n",
       "    <tr>\n",
       "      <th>3/13/2017</th>\n",
       "      <td>245.0</td>\n",
       "      <td>247.0</td>\n",
       "      <td>243.0</td>\n",
       "      <td>246.0</td>\n",
       "      <td>3010700</td>\n",
       "      <td>246.0</td>\n",
       "    </tr>\n",
       "    <tr>\n",
       "      <th>3/14/2017</th>\n",
       "      <td>246.0</td>\n",
       "      <td>258.0</td>\n",
       "      <td>246.0</td>\n",
       "      <td>258.0</td>\n",
       "      <td>7575500</td>\n",
       "      <td>258.0</td>\n",
       "    </tr>\n",
       "    <tr>\n",
       "      <th>3/15/2017</th>\n",
       "      <td>257.0</td>\n",
       "      <td>261.0</td>\n",
       "      <td>254.0</td>\n",
       "      <td>256.0</td>\n",
       "      <td>4816600</td>\n",
       "      <td>256.0</td>\n",
       "    </tr>\n",
       "    <tr>\n",
       "      <th>3/16/2017</th>\n",
       "      <td>262.0</td>\n",
       "      <td>266.0</td>\n",
       "      <td>259.0</td>\n",
       "      <td>262.0</td>\n",
       "      <td>7100400</td>\n",
       "      <td>262.0</td>\n",
       "    </tr>\n",
       "    <tr>\n",
       "      <th>3/17/2017</th>\n",
       "      <td>264.0</td>\n",
       "      <td>265.0</td>\n",
       "      <td>261.0</td>\n",
       "      <td>262.0</td>\n",
       "      <td>6475900</td>\n",
       "      <td>262.0</td>\n",
       "    </tr>\n",
       "  </tbody>\n",
       "</table>\n",
       "</div>"
      ],
      "text/plain": [
       "            Open   High    Low  Close    Volume  Adj Close\n",
       "Date                                                      \n",
       "2/1/2017   253.0  253.0  249.0  249.0   3958800      249.0\n",
       "2/2/2017   248.0  252.0  248.0  252.0   2499800      252.0\n",
       "2/3/2017   252.0  252.0  250.0  251.0   2186700      251.0\n",
       "2/6/2017   251.0  258.0  251.0  258.0   3562500      258.0\n",
       "2/7/2017   258.0  260.0  256.0  257.0   4244800      257.0\n",
       "2/8/2017   257.0  263.0  256.0  262.0   3933000      262.0\n",
       "2/9/2017   266.0  271.0  266.0  269.0   7820200      269.0\n",
       "2/10/2017  270.0  271.0  266.0  269.0   3619700      269.0\n",
       "2/13/2017  271.0  281.0  271.0  281.0   7029600      281.0\n",
       "2/14/2017  279.0  287.0  279.0  281.0   7329400      281.0\n",
       "2/15/2017  280.0  282.0  276.0  280.0   4935600      280.0\n",
       "2/16/2017  278.0  280.0  268.0  269.0   7053800      269.0\n",
       "2/17/2017  266.0  273.0  264.0  272.0   6247600      272.0\n",
       "2/21/2017  275.0  281.0  274.0  277.0   5634500      277.0\n",
       "2/22/2017  280.0  283.0  273.0  274.0   8081400      274.0\n",
       "2/23/2017  264.0  265.0  256.0  256.0  14867000      256.0\n",
       "2/24/2017  253.0  258.0  250.0  257.0   8160500      257.0\n",
       "2/27/2017  248.0  248.0  242.0  246.0  11432900      246.0\n",
       "2/28/2017  244.0  251.0  244.0  250.0   6065600      250.0\n",
       "3/1/2017   254.0  255.0  249.0  250.0   4800300      250.0\n",
       "3/2/2017   250.0  253.0  248.0  250.0   3342300      250.0\n",
       "3/3/2017   251.0  252.0  249.0  252.0   2919400      252.0\n",
       "3/6/2017   248.0  252.0  248.0  251.0   3351200      251.0\n",
       "3/7/2017   252.0  254.0  248.0  249.0   3449200      249.0\n",
       "3/8/2017   247.0  250.0  245.0  247.0   3725200      247.0\n",
       "3/9/2017   248.0  249.0  243.0  245.0   3861500      245.0\n",
       "3/10/2017  246.0  246.0  243.0  244.0   3057000      244.0\n",
       "3/13/2017  245.0  247.0  243.0  246.0   3010700      246.0\n",
       "3/14/2017  246.0  258.0  246.0  258.0   7575500      258.0\n",
       "3/15/2017  257.0  261.0  254.0  256.0   4816600      256.0\n",
       "3/16/2017  262.0  266.0  259.0  262.0   7100400      262.0\n",
       "3/17/2017  264.0  265.0  261.0  262.0   6475900      262.0"
      ]
     },
     "execution_count": 44,
     "metadata": {},
     "output_type": "execute_result"
    }
   ],
   "source": [
    "df_test"
   ]
  },
  {
   "cell_type": "markdown",
   "metadata": {},
   "source": [
    "# Predicted Value"
   ]
  },
  {
   "cell_type": "code",
   "execution_count": 45,
   "metadata": {},
   "outputs": [
    {
     "data": {
      "text/html": [
       "<div>\n",
       "<style scoped>\n",
       "    .dataframe tbody tr th:only-of-type {\n",
       "        vertical-align: middle;\n",
       "    }\n",
       "\n",
       "    .dataframe tbody tr th {\n",
       "        vertical-align: top;\n",
       "    }\n",
       "\n",
       "    .dataframe thead th {\n",
       "        text-align: right;\n",
       "    }\n",
       "</style>\n",
       "<table border=\"1\" class=\"dataframe\">\n",
       "  <thead>\n",
       "    <tr style=\"text-align: right;\">\n",
       "      <th></th>\n",
       "      <th>Open</th>\n",
       "      <th>High</th>\n",
       "      <th>Low</th>\n",
       "      <th>Close</th>\n",
       "      <th>Volume</th>\n",
       "      <th>Adj Close</th>\n",
       "    </tr>\n",
       "  </thead>\n",
       "  <tbody>\n",
       "    <tr>\n",
       "      <th>0</th>\n",
       "      <td>250.762793</td>\n",
       "      <td>255.248940</td>\n",
       "      <td>248.238602</td>\n",
       "      <td>252.752834</td>\n",
       "      <td>3.499760e+06</td>\n",
       "      <td>252.786002</td>\n",
       "    </tr>\n",
       "    <tr>\n",
       "      <th>1</th>\n",
       "      <td>251.257743</td>\n",
       "      <td>255.956526</td>\n",
       "      <td>248.886981</td>\n",
       "      <td>253.030330</td>\n",
       "      <td>3.312784e+06</td>\n",
       "      <td>253.494363</td>\n",
       "    </tr>\n",
       "    <tr>\n",
       "      <th>2</th>\n",
       "      <td>251.731747</td>\n",
       "      <td>256.391144</td>\n",
       "      <td>249.392112</td>\n",
       "      <td>253.440144</td>\n",
       "      <td>3.199312e+06</td>\n",
       "      <td>253.967021</td>\n",
       "    </tr>\n",
       "    <tr>\n",
       "      <th>3</th>\n",
       "      <td>252.172807</td>\n",
       "      <td>256.850783</td>\n",
       "      <td>249.851706</td>\n",
       "      <td>253.866889</td>\n",
       "      <td>3.108657e+06</td>\n",
       "      <td>254.394136</td>\n",
       "    </tr>\n",
       "    <tr>\n",
       "      <th>4</th>\n",
       "      <td>252.610608</td>\n",
       "      <td>257.315239</td>\n",
       "      <td>250.301839</td>\n",
       "      <td>254.294664</td>\n",
       "      <td>3.032344e+06</td>\n",
       "      <td>254.817132</td>\n",
       "    </tr>\n",
       "    <tr>\n",
       "      <th>5</th>\n",
       "      <td>253.048491</td>\n",
       "      <td>257.775727</td>\n",
       "      <td>250.746774</td>\n",
       "      <td>254.720942</td>\n",
       "      <td>2.966870e+06</td>\n",
       "      <td>255.241285</td>\n",
       "    </tr>\n",
       "    <tr>\n",
       "      <th>6</th>\n",
       "      <td>253.483974</td>\n",
       "      <td>258.227608</td>\n",
       "      <td>251.185503</td>\n",
       "      <td>255.143776</td>\n",
       "      <td>2.910256e+06</td>\n",
       "      <td>255.664280</td>\n",
       "    </tr>\n",
       "    <tr>\n",
       "      <th>7</th>\n",
       "      <td>253.913215</td>\n",
       "      <td>258.667910</td>\n",
       "      <td>251.615433</td>\n",
       "      <td>255.560704</td>\n",
       "      <td>2.861084e+06</td>\n",
       "      <td>256.083059</td>\n",
       "    </tr>\n",
       "    <tr>\n",
       "      <th>8</th>\n",
       "      <td>254.332923</td>\n",
       "      <td>259.094542</td>\n",
       "      <td>252.033501</td>\n",
       "      <td>255.969891</td>\n",
       "      <td>2.818211e+06</td>\n",
       "      <td>256.494499</td>\n",
       "    </tr>\n",
       "    <tr>\n",
       "      <th>9</th>\n",
       "      <td>254.740537</td>\n",
       "      <td>259.506247</td>\n",
       "      <td>252.438017</td>\n",
       "      <td>256.369133</td>\n",
       "      <td>2.780689e+06</td>\n",
       "      <td>256.896026</td>\n",
       "    </tr>\n",
       "    <tr>\n",
       "      <th>10</th>\n",
       "      <td>255.134305</td>\n",
       "      <td>259.902290</td>\n",
       "      <td>252.827796</td>\n",
       "      <td>256.756787</td>\n",
       "      <td>2.747717e+06</td>\n",
       "      <td>257.285611</td>\n",
       "    </tr>\n",
       "    <tr>\n",
       "      <th>11</th>\n",
       "      <td>255.513125</td>\n",
       "      <td>260.282165</td>\n",
       "      <td>253.202048</td>\n",
       "      <td>257.131760</td>\n",
       "      <td>2.718603e+06</td>\n",
       "      <td>257.661711</td>\n",
       "    </tr>\n",
       "    <tr>\n",
       "      <th>12</th>\n",
       "      <td>255.876025</td>\n",
       "      <td>260.646133</td>\n",
       "      <td>253.561184</td>\n",
       "      <td>257.492683</td>\n",
       "      <td>2.692794e+06</td>\n",
       "      <td>258.023197</td>\n",
       "    </tr>\n",
       "    <tr>\n",
       "      <th>13</th>\n",
       "      <td>256.222858</td>\n",
       "      <td>260.993965</td>\n",
       "      <td>253.904399</td>\n",
       "      <td>257.839203</td>\n",
       "      <td>2.669788e+06</td>\n",
       "      <td>258.369621</td>\n",
       "    </tr>\n",
       "    <tr>\n",
       "      <th>14</th>\n",
       "      <td>256.553852</td>\n",
       "      <td>261.325873</td>\n",
       "      <td>254.232008</td>\n",
       "      <td>258.170837</td>\n",
       "      <td>2.649169e+06</td>\n",
       "      <td>258.700659</td>\n",
       "    </tr>\n",
       "    <tr>\n",
       "      <th>15</th>\n",
       "      <td>256.869249</td>\n",
       "      <td>261.641989</td>\n",
       "      <td>254.543837</td>\n",
       "      <td>258.487649</td>\n",
       "      <td>2.630583e+06</td>\n",
       "      <td>259.016376</td>\n",
       "    </tr>\n",
       "    <tr>\n",
       "      <th>16</th>\n",
       "      <td>257.169277</td>\n",
       "      <td>261.942623</td>\n",
       "      <td>254.840235</td>\n",
       "      <td>258.789623</td>\n",
       "      <td>2.613738e+06</td>\n",
       "      <td>259.316934</td>\n",
       "    </tr>\n",
       "    <tr>\n",
       "      <th>17</th>\n",
       "      <td>257.454503</td>\n",
       "      <td>262.228215</td>\n",
       "      <td>255.121643</td>\n",
       "      <td>259.076984</td>\n",
       "      <td>2.598394e+06</td>\n",
       "      <td>259.602622</td>\n",
       "    </tr>\n",
       "    <tr>\n",
       "      <th>18</th>\n",
       "      <td>257.725413</td>\n",
       "      <td>262.499304</td>\n",
       "      <td>255.388803</td>\n",
       "      <td>259.350167</td>\n",
       "      <td>2.584346e+06</td>\n",
       "      <td>259.873793</td>\n",
       "    </tr>\n",
       "    <tr>\n",
       "      <th>19</th>\n",
       "      <td>257.982478</td>\n",
       "      <td>262.756479</td>\n",
       "      <td>255.642301</td>\n",
       "      <td>259.609413</td>\n",
       "      <td>2.571433e+06</td>\n",
       "      <td>260.130995</td>\n",
       "    </tr>\n",
       "    <tr>\n",
       "      <th>20</th>\n",
       "      <td>258.226216</td>\n",
       "      <td>263.000360</td>\n",
       "      <td>255.882578</td>\n",
       "      <td>259.855189</td>\n",
       "      <td>2.559520e+06</td>\n",
       "      <td>260.374712</td>\n",
       "    </tr>\n",
       "    <tr>\n",
       "      <th>21</th>\n",
       "      <td>258.457455</td>\n",
       "      <td>263.231241</td>\n",
       "      <td>256.110156</td>\n",
       "      <td>260.088380</td>\n",
       "      <td>2.548481e+06</td>\n",
       "      <td>260.605553</td>\n",
       "    </tr>\n",
       "    <tr>\n",
       "      <th>22</th>\n",
       "      <td>258.676436</td>\n",
       "      <td>263.450052</td>\n",
       "      <td>256.325887</td>\n",
       "      <td>260.308987</td>\n",
       "      <td>2.538234e+06</td>\n",
       "      <td>260.824003</td>\n",
       "    </tr>\n",
       "    <tr>\n",
       "      <th>23</th>\n",
       "      <td>258.883988</td>\n",
       "      <td>263.657073</td>\n",
       "      <td>256.530009</td>\n",
       "      <td>260.517909</td>\n",
       "      <td>2.528685e+06</td>\n",
       "      <td>261.030801</td>\n",
       "    </tr>\n",
       "    <tr>\n",
       "      <th>24</th>\n",
       "      <td>259.080386</td>\n",
       "      <td>263.853134</td>\n",
       "      <td>256.723579</td>\n",
       "      <td>260.715551</td>\n",
       "      <td>2.519779e+06</td>\n",
       "      <td>261.226302</td>\n",
       "    </tr>\n",
       "    <tr>\n",
       "      <th>25</th>\n",
       "      <td>259.266473</td>\n",
       "      <td>264.038564</td>\n",
       "      <td>256.906725</td>\n",
       "      <td>260.902570</td>\n",
       "      <td>2.511449e+06</td>\n",
       "      <td>261.411149</td>\n",
       "    </tr>\n",
       "    <tr>\n",
       "      <th>26</th>\n",
       "      <td>259.442508</td>\n",
       "      <td>264.213999</td>\n",
       "      <td>257.080046</td>\n",
       "      <td>261.079451</td>\n",
       "      <td>2.503653e+06</td>\n",
       "      <td>261.586051</td>\n",
       "    </tr>\n",
       "    <tr>\n",
       "      <th>27</th>\n",
       "      <td>259.609107</td>\n",
       "      <td>264.379847</td>\n",
       "      <td>257.243795</td>\n",
       "      <td>261.246612</td>\n",
       "      <td>2.496340e+06</td>\n",
       "      <td>261.751393</td>\n",
       "    </tr>\n",
       "    <tr>\n",
       "      <th>28</th>\n",
       "      <td>259.766725</td>\n",
       "      <td>264.536468</td>\n",
       "      <td>257.398478</td>\n",
       "      <td>261.404712</td>\n",
       "      <td>2.489470e+06</td>\n",
       "      <td>261.907691</td>\n",
       "    </tr>\n",
       "    <tr>\n",
       "      <th>29</th>\n",
       "      <td>259.915782</td>\n",
       "      <td>264.684433</td>\n",
       "      <td>257.544631</td>\n",
       "      <td>261.554186</td>\n",
       "      <td>2.483019e+06</td>\n",
       "      <td>262.055427</td>\n",
       "    </tr>\n",
       "    <tr>\n",
       "      <th>30</th>\n",
       "      <td>260.056620</td>\n",
       "      <td>264.824248</td>\n",
       "      <td>257.682681</td>\n",
       "      <td>261.695421</td>\n",
       "      <td>2.476953e+06</td>\n",
       "      <td>262.195084</td>\n",
       "    </tr>\n",
       "    <tr>\n",
       "      <th>31</th>\n",
       "      <td>260.189773</td>\n",
       "      <td>264.956306</td>\n",
       "      <td>257.813150</td>\n",
       "      <td>261.828801</td>\n",
       "      <td>2.471249e+06</td>\n",
       "      <td>262.326952</td>\n",
       "    </tr>\n",
       "  </tbody>\n",
       "</table>\n",
       "</div>"
      ],
      "text/plain": [
       "          Open        High         Low       Close        Volume   Adj Close\n",
       "0   250.762793  255.248940  248.238602  252.752834  3.499760e+06  252.786002\n",
       "1   251.257743  255.956526  248.886981  253.030330  3.312784e+06  253.494363\n",
       "2   251.731747  256.391144  249.392112  253.440144  3.199312e+06  253.967021\n",
       "3   252.172807  256.850783  249.851706  253.866889  3.108657e+06  254.394136\n",
       "4   252.610608  257.315239  250.301839  254.294664  3.032344e+06  254.817132\n",
       "5   253.048491  257.775727  250.746774  254.720942  2.966870e+06  255.241285\n",
       "6   253.483974  258.227608  251.185503  255.143776  2.910256e+06  255.664280\n",
       "7   253.913215  258.667910  251.615433  255.560704  2.861084e+06  256.083059\n",
       "8   254.332923  259.094542  252.033501  255.969891  2.818211e+06  256.494499\n",
       "9   254.740537  259.506247  252.438017  256.369133  2.780689e+06  256.896026\n",
       "10  255.134305  259.902290  252.827796  256.756787  2.747717e+06  257.285611\n",
       "11  255.513125  260.282165  253.202048  257.131760  2.718603e+06  257.661711\n",
       "12  255.876025  260.646133  253.561184  257.492683  2.692794e+06  258.023197\n",
       "13  256.222858  260.993965  253.904399  257.839203  2.669788e+06  258.369621\n",
       "14  256.553852  261.325873  254.232008  258.170837  2.649169e+06  258.700659\n",
       "15  256.869249  261.641989  254.543837  258.487649  2.630583e+06  259.016376\n",
       "16  257.169277  261.942623  254.840235  258.789623  2.613738e+06  259.316934\n",
       "17  257.454503  262.228215  255.121643  259.076984  2.598394e+06  259.602622\n",
       "18  257.725413  262.499304  255.388803  259.350167  2.584346e+06  259.873793\n",
       "19  257.982478  262.756479  255.642301  259.609413  2.571433e+06  260.130995\n",
       "20  258.226216  263.000360  255.882578  259.855189  2.559520e+06  260.374712\n",
       "21  258.457455  263.231241  256.110156  260.088380  2.548481e+06  260.605553\n",
       "22  258.676436  263.450052  256.325887  260.308987  2.538234e+06  260.824003\n",
       "23  258.883988  263.657073  256.530009  260.517909  2.528685e+06  261.030801\n",
       "24  259.080386  263.853134  256.723579  260.715551  2.519779e+06  261.226302\n",
       "25  259.266473  264.038564  256.906725  260.902570  2.511449e+06  261.411149\n",
       "26  259.442508  264.213999  257.080046  261.079451  2.503653e+06  261.586051\n",
       "27  259.609107  264.379847  257.243795  261.246612  2.496340e+06  261.751393\n",
       "28  259.766725  264.536468  257.398478  261.404712  2.489470e+06  261.907691\n",
       "29  259.915782  264.684433  257.544631  261.554186  2.483019e+06  262.055427\n",
       "30  260.056620  264.824248  257.682681  261.695421  2.476953e+06  262.195084\n",
       "31  260.189773  264.956306  257.813150  261.828801  2.471249e+06  262.326952"
      ]
     },
     "execution_count": 45,
     "metadata": {},
     "output_type": "execute_result"
    }
   ],
   "source": [
    "prediction = pd.DataFrame(data=test_predictions,columns=df_test.columns)\n",
    "\n",
    "prediction = np.round(prediction)\n",
    "\n",
    "prediction"
   ]
  },
  {
   "cell_type": "code",
   "execution_count": null,
   "metadata": {},
   "outputs": [],
   "source": []
  }
 ],
 "metadata": {
  "kernelspec": {
   "display_name": "Python 3",
   "language": "python",
   "name": "python3"
  },
  "language_info": {
   "codemirror_mode": {
    "name": "ipython",
    "version": 3
   },
   "file_extension": ".py",
   "mimetype": "text/x-python",
   "name": "python",
   "nbconvert_exporter": "python",
   "pygments_lexer": "ipython3",
   "version": "3.7.6"
  }
 },
 "nbformat": 4,
 "nbformat_minor": 4
}
